{
  "nbformat": 4,
  "nbformat_minor": 0,
  "metadata": {
    "colab": {
      "name": "Model Predictions.ipynb",
      "provenance": [],
      "collapsed_sections": [],
      "mount_file_id": "1xLLiNFSmqQqd_pfkRngRmAVFRcuhul6I",
      "authorship_tag": "ABX9TyMFOGe+9vqfRsMUOLu5HWQV",
      "include_colab_link": true
    },
    "kernelspec": {
      "name": "python3",
      "display_name": "Python 3"
    },
    "language_info": {
      "name": "python"
    }
  },
  "cells": [
    {
      "cell_type": "markdown",
      "metadata": {
        "id": "view-in-github",
        "colab_type": "text"
      },
      "source": [
        "<a href=\"https://colab.research.google.com/github/Sukrut11/Advanced-House-Price-Regression/blob/main/Model_Predictions.ipynb\" target=\"_parent\"><img src=\"https://colab.research.google.com/assets/colab-badge.svg\" alt=\"Open In Colab\"/></a>"
      ]
    },
    {
      "cell_type": "code",
      "execution_count": 167,
      "metadata": {
        "id": "Tbxub1XFD2xm"
      },
      "outputs": [],
      "source": [
        "import pandas as pd\n",
        "import numpy as np\n",
        "import matplotlib.pyplot as plt\n",
        "%matplotlib inline\n",
        "import seaborn as sns\n",
        "pd.pandas.set_option(\"display.max_columns\", None)"
      ]
    },
    {
      "cell_type": "code",
      "source": [
        "dataset = pd.read_csv(\"/content/drive/MyDrive/content/x_train.csv\")"
      ],
      "metadata": {
        "id": "1Gih1BDEFwZ7"
      },
      "execution_count": 168,
      "outputs": []
    },
    {
      "cell_type": "code",
      "source": [
        "dataset.head(10)"
      ],
      "metadata": {
        "colab": {
          "base_uri": "https://localhost:8080/",
          "height": 427
        },
        "id": "TlfVaciTNjOD",
        "outputId": "daffebf6-2c7b-4caf-cf22-8d444fcf8952"
      },
      "execution_count": 169,
      "outputs": [
        {
          "output_type": "execute_result",
          "data": {
            "text/html": [
              "\n",
              "  <div id=\"df-e5f9798e-c95d-4625-8f42-cfbed6b68963\">\n",
              "    <div class=\"colab-df-container\">\n",
              "      <div>\n",
              "<style scoped>\n",
              "    .dataframe tbody tr th:only-of-type {\n",
              "        vertical-align: middle;\n",
              "    }\n",
              "\n",
              "    .dataframe tbody tr th {\n",
              "        vertical-align: top;\n",
              "    }\n",
              "\n",
              "    .dataframe thead th {\n",
              "        text-align: right;\n",
              "    }\n",
              "</style>\n",
              "<table border=\"1\" class=\"dataframe\">\n",
              "  <thead>\n",
              "    <tr style=\"text-align: right;\">\n",
              "      <th></th>\n",
              "      <th>Id</th>\n",
              "      <th>SalePrice</th>\n",
              "      <th>MSSubClass</th>\n",
              "      <th>MSZoning</th>\n",
              "      <th>LotFrontage</th>\n",
              "      <th>LotArea</th>\n",
              "      <th>Street</th>\n",
              "      <th>Alley</th>\n",
              "      <th>LotShape</th>\n",
              "      <th>LandContour</th>\n",
              "      <th>Utilities</th>\n",
              "      <th>LotConfig</th>\n",
              "      <th>LandSlope</th>\n",
              "      <th>Neighborhood</th>\n",
              "      <th>Condition1</th>\n",
              "      <th>Condition2</th>\n",
              "      <th>BldgType</th>\n",
              "      <th>HouseStyle</th>\n",
              "      <th>OverallQual</th>\n",
              "      <th>OverallCond</th>\n",
              "      <th>YearBuilt</th>\n",
              "      <th>YearRemodAdd</th>\n",
              "      <th>RoofStyle</th>\n",
              "      <th>RoofMatl</th>\n",
              "      <th>Exterior1st</th>\n",
              "      <th>Exterior2nd</th>\n",
              "      <th>MasVnrType</th>\n",
              "      <th>MasVnrArea</th>\n",
              "      <th>ExterQual</th>\n",
              "      <th>ExterCond</th>\n",
              "      <th>Foundation</th>\n",
              "      <th>BsmtQual</th>\n",
              "      <th>BsmtCond</th>\n",
              "      <th>BsmtExposure</th>\n",
              "      <th>BsmtFinType1</th>\n",
              "      <th>BsmtFinSF1</th>\n",
              "      <th>BsmtFinType2</th>\n",
              "      <th>BsmtFinSF2</th>\n",
              "      <th>BsmtUnfSF</th>\n",
              "      <th>TotalBsmtSF</th>\n",
              "      <th>Heating</th>\n",
              "      <th>HeatingQC</th>\n",
              "      <th>CentralAir</th>\n",
              "      <th>Electrical</th>\n",
              "      <th>1stFlrSF</th>\n",
              "      <th>2ndFlrSF</th>\n",
              "      <th>LowQualFinSF</th>\n",
              "      <th>GrLivArea</th>\n",
              "      <th>BsmtFullBath</th>\n",
              "      <th>BsmtHalfBath</th>\n",
              "      <th>FullBath</th>\n",
              "      <th>HalfBath</th>\n",
              "      <th>BedroomAbvGr</th>\n",
              "      <th>KitchenAbvGr</th>\n",
              "      <th>KitchenQual</th>\n",
              "      <th>TotRmsAbvGrd</th>\n",
              "      <th>Functional</th>\n",
              "      <th>Fireplaces</th>\n",
              "      <th>FireplaceQu</th>\n",
              "      <th>GarageType</th>\n",
              "      <th>GarageYrBlt</th>\n",
              "      <th>GarageFinish</th>\n",
              "      <th>GarageCars</th>\n",
              "      <th>GarageArea</th>\n",
              "      <th>GarageQual</th>\n",
              "      <th>GarageCond</th>\n",
              "      <th>PavedDrive</th>\n",
              "      <th>WoodDeckSF</th>\n",
              "      <th>OpenPorchSF</th>\n",
              "      <th>EnclosedPorch</th>\n",
              "      <th>3SsnPorch</th>\n",
              "      <th>ScreenPorch</th>\n",
              "      <th>PoolArea</th>\n",
              "      <th>PoolQC</th>\n",
              "      <th>Fence</th>\n",
              "      <th>MiscFeature</th>\n",
              "      <th>MiscVal</th>\n",
              "      <th>MoSold</th>\n",
              "      <th>YrSold</th>\n",
              "      <th>SaleType</th>\n",
              "      <th>SaleCondition</th>\n",
              "      <th>LotFrontagenan</th>\n",
              "      <th>MasVnrAreanan</th>\n",
              "      <th>GarageYrBltnan</th>\n",
              "    </tr>\n",
              "  </thead>\n",
              "  <tbody>\n",
              "    <tr>\n",
              "      <th>0</th>\n",
              "      <td>1</td>\n",
              "      <td>12.247694</td>\n",
              "      <td>0.235294</td>\n",
              "      <td>0.75</td>\n",
              "      <td>0.418208</td>\n",
              "      <td>0.366344</td>\n",
              "      <td>1.0</td>\n",
              "      <td>1.0</td>\n",
              "      <td>0.000000</td>\n",
              "      <td>0.333333</td>\n",
              "      <td>1.0</td>\n",
              "      <td>0.00</td>\n",
              "      <td>0.0</td>\n",
              "      <td>0.636364</td>\n",
              "      <td>0.4</td>\n",
              "      <td>1.0</td>\n",
              "      <td>0.75</td>\n",
              "      <td>1.0</td>\n",
              "      <td>0.666667</td>\n",
              "      <td>0.500</td>\n",
              "      <td>0.036765</td>\n",
              "      <td>0.098361</td>\n",
              "      <td>0.0</td>\n",
              "      <td>0.0</td>\n",
              "      <td>1.0</td>\n",
              "      <td>1.0</td>\n",
              "      <td>0.50</td>\n",
              "      <td>0.12250</td>\n",
              "      <td>0.666667</td>\n",
              "      <td>1.0</td>\n",
              "      <td>1.00</td>\n",
              "      <td>0.75</td>\n",
              "      <td>0.75</td>\n",
              "      <td>0.25</td>\n",
              "      <td>1.000000</td>\n",
              "      <td>0.125089</td>\n",
              "      <td>0.833333</td>\n",
              "      <td>0.00000</td>\n",
              "      <td>0.064212</td>\n",
              "      <td>0.140098</td>\n",
              "      <td>1.0</td>\n",
              "      <td>1.00</td>\n",
              "      <td>1.0</td>\n",
              "      <td>1.000000</td>\n",
              "      <td>0.356155</td>\n",
              "      <td>0.413559</td>\n",
              "      <td>0.0</td>\n",
              "      <td>0.577712</td>\n",
              "      <td>0.333333</td>\n",
              "      <td>0.0</td>\n",
              "      <td>0.666667</td>\n",
              "      <td>0.5</td>\n",
              "      <td>0.375</td>\n",
              "      <td>0.333333</td>\n",
              "      <td>0.666667</td>\n",
              "      <td>0.500000</td>\n",
              "      <td>1.00</td>\n",
              "      <td>0.000000</td>\n",
              "      <td>0.2</td>\n",
              "      <td>0.8</td>\n",
              "      <td>0.046729</td>\n",
              "      <td>0.666667</td>\n",
              "      <td>0.50</td>\n",
              "      <td>0.386460</td>\n",
              "      <td>0.666667</td>\n",
              "      <td>1.0</td>\n",
              "      <td>1.0</td>\n",
              "      <td>0.000000</td>\n",
              "      <td>0.111517</td>\n",
              "      <td>0.000000</td>\n",
              "      <td>0.000000</td>\n",
              "      <td>0.0</td>\n",
              "      <td>0.0</td>\n",
              "      <td>0.0</td>\n",
              "      <td>1.0</td>\n",
              "      <td>1.0</td>\n",
              "      <td>0.000000</td>\n",
              "      <td>0.090909</td>\n",
              "      <td>0.50</td>\n",
              "      <td>0.666667</td>\n",
              "      <td>0.75</td>\n",
              "      <td>0.0</td>\n",
              "      <td>0.0</td>\n",
              "      <td>0.0</td>\n",
              "    </tr>\n",
              "    <tr>\n",
              "      <th>1</th>\n",
              "      <td>2</td>\n",
              "      <td>12.109011</td>\n",
              "      <td>0.000000</td>\n",
              "      <td>0.75</td>\n",
              "      <td>0.495064</td>\n",
              "      <td>0.391317</td>\n",
              "      <td>1.0</td>\n",
              "      <td>1.0</td>\n",
              "      <td>0.000000</td>\n",
              "      <td>0.333333</td>\n",
              "      <td>1.0</td>\n",
              "      <td>0.50</td>\n",
              "      <td>0.0</td>\n",
              "      <td>0.500000</td>\n",
              "      <td>0.2</td>\n",
              "      <td>1.0</td>\n",
              "      <td>0.75</td>\n",
              "      <td>0.6</td>\n",
              "      <td>0.555556</td>\n",
              "      <td>0.875</td>\n",
              "      <td>0.227941</td>\n",
              "      <td>0.524590</td>\n",
              "      <td>0.0</td>\n",
              "      <td>0.0</td>\n",
              "      <td>0.4</td>\n",
              "      <td>0.3</td>\n",
              "      <td>0.25</td>\n",
              "      <td>0.00000</td>\n",
              "      <td>0.333333</td>\n",
              "      <td>1.0</td>\n",
              "      <td>0.50</td>\n",
              "      <td>0.75</td>\n",
              "      <td>0.75</td>\n",
              "      <td>1.00</td>\n",
              "      <td>0.666667</td>\n",
              "      <td>0.173281</td>\n",
              "      <td>0.833333</td>\n",
              "      <td>0.00000</td>\n",
              "      <td>0.121575</td>\n",
              "      <td>0.206547</td>\n",
              "      <td>1.0</td>\n",
              "      <td>1.00</td>\n",
              "      <td>1.0</td>\n",
              "      <td>1.000000</td>\n",
              "      <td>0.503056</td>\n",
              "      <td>0.000000</td>\n",
              "      <td>0.0</td>\n",
              "      <td>0.470245</td>\n",
              "      <td>0.000000</td>\n",
              "      <td>0.5</td>\n",
              "      <td>0.666667</td>\n",
              "      <td>0.0</td>\n",
              "      <td>0.375</td>\n",
              "      <td>0.333333</td>\n",
              "      <td>0.333333</td>\n",
              "      <td>0.333333</td>\n",
              "      <td>1.00</td>\n",
              "      <td>0.333333</td>\n",
              "      <td>0.6</td>\n",
              "      <td>0.8</td>\n",
              "      <td>0.289720</td>\n",
              "      <td>0.666667</td>\n",
              "      <td>0.50</td>\n",
              "      <td>0.324401</td>\n",
              "      <td>0.666667</td>\n",
              "      <td>1.0</td>\n",
              "      <td>1.0</td>\n",
              "      <td>0.347725</td>\n",
              "      <td>0.000000</td>\n",
              "      <td>0.000000</td>\n",
              "      <td>0.000000</td>\n",
              "      <td>0.0</td>\n",
              "      <td>0.0</td>\n",
              "      <td>0.0</td>\n",
              "      <td>1.0</td>\n",
              "      <td>1.0</td>\n",
              "      <td>0.000000</td>\n",
              "      <td>0.363636</td>\n",
              "      <td>0.25</td>\n",
              "      <td>0.666667</td>\n",
              "      <td>0.75</td>\n",
              "      <td>0.0</td>\n",
              "      <td>0.0</td>\n",
              "      <td>0.0</td>\n",
              "    </tr>\n",
              "    <tr>\n",
              "      <th>2</th>\n",
              "      <td>3</td>\n",
              "      <td>12.317167</td>\n",
              "      <td>0.235294</td>\n",
              "      <td>0.75</td>\n",
              "      <td>0.434909</td>\n",
              "      <td>0.422359</td>\n",
              "      <td>1.0</td>\n",
              "      <td>1.0</td>\n",
              "      <td>0.333333</td>\n",
              "      <td>0.333333</td>\n",
              "      <td>1.0</td>\n",
              "      <td>0.00</td>\n",
              "      <td>0.0</td>\n",
              "      <td>0.636364</td>\n",
              "      <td>0.4</td>\n",
              "      <td>1.0</td>\n",
              "      <td>0.75</td>\n",
              "      <td>1.0</td>\n",
              "      <td>0.666667</td>\n",
              "      <td>0.500</td>\n",
              "      <td>0.051471</td>\n",
              "      <td>0.114754</td>\n",
              "      <td>0.0</td>\n",
              "      <td>0.0</td>\n",
              "      <td>1.0</td>\n",
              "      <td>1.0</td>\n",
              "      <td>0.50</td>\n",
              "      <td>0.10125</td>\n",
              "      <td>0.666667</td>\n",
              "      <td>1.0</td>\n",
              "      <td>1.00</td>\n",
              "      <td>0.75</td>\n",
              "      <td>0.75</td>\n",
              "      <td>0.50</td>\n",
              "      <td>1.000000</td>\n",
              "      <td>0.086109</td>\n",
              "      <td>0.833333</td>\n",
              "      <td>0.00000</td>\n",
              "      <td>0.185788</td>\n",
              "      <td>0.150573</td>\n",
              "      <td>1.0</td>\n",
              "      <td>1.00</td>\n",
              "      <td>1.0</td>\n",
              "      <td>1.000000</td>\n",
              "      <td>0.383441</td>\n",
              "      <td>0.419370</td>\n",
              "      <td>0.0</td>\n",
              "      <td>0.593095</td>\n",
              "      <td>0.333333</td>\n",
              "      <td>0.0</td>\n",
              "      <td>0.666667</td>\n",
              "      <td>0.5</td>\n",
              "      <td>0.375</td>\n",
              "      <td>0.333333</td>\n",
              "      <td>0.666667</td>\n",
              "      <td>0.333333</td>\n",
              "      <td>1.00</td>\n",
              "      <td>0.333333</td>\n",
              "      <td>0.6</td>\n",
              "      <td>0.8</td>\n",
              "      <td>0.065421</td>\n",
              "      <td>0.666667</td>\n",
              "      <td>0.50</td>\n",
              "      <td>0.428773</td>\n",
              "      <td>0.666667</td>\n",
              "      <td>1.0</td>\n",
              "      <td>1.0</td>\n",
              "      <td>0.000000</td>\n",
              "      <td>0.076782</td>\n",
              "      <td>0.000000</td>\n",
              "      <td>0.000000</td>\n",
              "      <td>0.0</td>\n",
              "      <td>0.0</td>\n",
              "      <td>0.0</td>\n",
              "      <td>1.0</td>\n",
              "      <td>1.0</td>\n",
              "      <td>0.000000</td>\n",
              "      <td>0.727273</td>\n",
              "      <td>0.50</td>\n",
              "      <td>0.666667</td>\n",
              "      <td>0.75</td>\n",
              "      <td>0.0</td>\n",
              "      <td>0.0</td>\n",
              "      <td>0.0</td>\n",
              "    </tr>\n",
              "    <tr>\n",
              "      <th>3</th>\n",
              "      <td>4</td>\n",
              "      <td>11.849398</td>\n",
              "      <td>0.294118</td>\n",
              "      <td>0.75</td>\n",
              "      <td>0.388581</td>\n",
              "      <td>0.390295</td>\n",
              "      <td>1.0</td>\n",
              "      <td>1.0</td>\n",
              "      <td>0.333333</td>\n",
              "      <td>0.333333</td>\n",
              "      <td>1.0</td>\n",
              "      <td>0.25</td>\n",
              "      <td>0.0</td>\n",
              "      <td>0.727273</td>\n",
              "      <td>0.4</td>\n",
              "      <td>1.0</td>\n",
              "      <td>0.75</td>\n",
              "      <td>1.0</td>\n",
              "      <td>0.666667</td>\n",
              "      <td>0.500</td>\n",
              "      <td>0.669118</td>\n",
              "      <td>0.606557</td>\n",
              "      <td>0.0</td>\n",
              "      <td>0.0</td>\n",
              "      <td>0.2</td>\n",
              "      <td>0.4</td>\n",
              "      <td>0.25</td>\n",
              "      <td>0.00000</td>\n",
              "      <td>0.333333</td>\n",
              "      <td>1.0</td>\n",
              "      <td>0.25</td>\n",
              "      <td>0.50</td>\n",
              "      <td>1.00</td>\n",
              "      <td>0.25</td>\n",
              "      <td>0.666667</td>\n",
              "      <td>0.038271</td>\n",
              "      <td>0.833333</td>\n",
              "      <td>0.00000</td>\n",
              "      <td>0.231164</td>\n",
              "      <td>0.123732</td>\n",
              "      <td>1.0</td>\n",
              "      <td>0.75</td>\n",
              "      <td>1.0</td>\n",
              "      <td>1.000000</td>\n",
              "      <td>0.399941</td>\n",
              "      <td>0.366102</td>\n",
              "      <td>0.0</td>\n",
              "      <td>0.579157</td>\n",
              "      <td>0.333333</td>\n",
              "      <td>0.0</td>\n",
              "      <td>0.333333</td>\n",
              "      <td>0.0</td>\n",
              "      <td>0.375</td>\n",
              "      <td>0.333333</td>\n",
              "      <td>0.666667</td>\n",
              "      <td>0.416667</td>\n",
              "      <td>1.00</td>\n",
              "      <td>0.333333</td>\n",
              "      <td>0.8</td>\n",
              "      <td>0.4</td>\n",
              "      <td>0.074766</td>\n",
              "      <td>0.333333</td>\n",
              "      <td>0.75</td>\n",
              "      <td>0.452750</td>\n",
              "      <td>0.666667</td>\n",
              "      <td>1.0</td>\n",
              "      <td>1.0</td>\n",
              "      <td>0.000000</td>\n",
              "      <td>0.063985</td>\n",
              "      <td>0.492754</td>\n",
              "      <td>0.000000</td>\n",
              "      <td>0.0</td>\n",
              "      <td>0.0</td>\n",
              "      <td>0.0</td>\n",
              "      <td>1.0</td>\n",
              "      <td>1.0</td>\n",
              "      <td>0.000000</td>\n",
              "      <td>0.090909</td>\n",
              "      <td>0.00</td>\n",
              "      <td>0.666667</td>\n",
              "      <td>0.00</td>\n",
              "      <td>0.0</td>\n",
              "      <td>0.0</td>\n",
              "      <td>0.0</td>\n",
              "    </tr>\n",
              "    <tr>\n",
              "      <th>4</th>\n",
              "      <td>5</td>\n",
              "      <td>12.429216</td>\n",
              "      <td>0.235294</td>\n",
              "      <td>0.75</td>\n",
              "      <td>0.513123</td>\n",
              "      <td>0.468761</td>\n",
              "      <td>1.0</td>\n",
              "      <td>1.0</td>\n",
              "      <td>0.333333</td>\n",
              "      <td>0.333333</td>\n",
              "      <td>1.0</td>\n",
              "      <td>0.50</td>\n",
              "      <td>0.0</td>\n",
              "      <td>1.000000</td>\n",
              "      <td>0.4</td>\n",
              "      <td>1.0</td>\n",
              "      <td>0.75</td>\n",
              "      <td>1.0</td>\n",
              "      <td>0.777778</td>\n",
              "      <td>0.500</td>\n",
              "      <td>0.058824</td>\n",
              "      <td>0.147541</td>\n",
              "      <td>0.0</td>\n",
              "      <td>0.0</td>\n",
              "      <td>1.0</td>\n",
              "      <td>1.0</td>\n",
              "      <td>0.50</td>\n",
              "      <td>0.21875</td>\n",
              "      <td>0.666667</td>\n",
              "      <td>1.0</td>\n",
              "      <td>1.00</td>\n",
              "      <td>0.75</td>\n",
              "      <td>0.75</td>\n",
              "      <td>0.75</td>\n",
              "      <td>1.000000</td>\n",
              "      <td>0.116052</td>\n",
              "      <td>0.833333</td>\n",
              "      <td>0.00000</td>\n",
              "      <td>0.209760</td>\n",
              "      <td>0.187398</td>\n",
              "      <td>1.0</td>\n",
              "      <td>1.00</td>\n",
              "      <td>1.0</td>\n",
              "      <td>1.000000</td>\n",
              "      <td>0.466237</td>\n",
              "      <td>0.509927</td>\n",
              "      <td>0.0</td>\n",
              "      <td>0.666523</td>\n",
              "      <td>0.333333</td>\n",
              "      <td>0.0</td>\n",
              "      <td>0.666667</td>\n",
              "      <td>0.5</td>\n",
              "      <td>0.500</td>\n",
              "      <td>0.333333</td>\n",
              "      <td>0.666667</td>\n",
              "      <td>0.583333</td>\n",
              "      <td>1.00</td>\n",
              "      <td>0.333333</td>\n",
              "      <td>0.6</td>\n",
              "      <td>0.8</td>\n",
              "      <td>0.074766</td>\n",
              "      <td>0.666667</td>\n",
              "      <td>0.75</td>\n",
              "      <td>0.589563</td>\n",
              "      <td>0.666667</td>\n",
              "      <td>1.0</td>\n",
              "      <td>1.0</td>\n",
              "      <td>0.224037</td>\n",
              "      <td>0.153565</td>\n",
              "      <td>0.000000</td>\n",
              "      <td>0.000000</td>\n",
              "      <td>0.0</td>\n",
              "      <td>0.0</td>\n",
              "      <td>0.0</td>\n",
              "      <td>1.0</td>\n",
              "      <td>1.0</td>\n",
              "      <td>0.000000</td>\n",
              "      <td>1.000000</td>\n",
              "      <td>0.50</td>\n",
              "      <td>0.666667</td>\n",
              "      <td>0.75</td>\n",
              "      <td>0.0</td>\n",
              "      <td>0.0</td>\n",
              "      <td>0.0</td>\n",
              "    </tr>\n",
              "    <tr>\n",
              "      <th>5</th>\n",
              "      <td>6</td>\n",
              "      <td>11.870600</td>\n",
              "      <td>0.176471</td>\n",
              "      <td>0.75</td>\n",
              "      <td>0.517503</td>\n",
              "      <td>0.466761</td>\n",
              "      <td>1.0</td>\n",
              "      <td>1.0</td>\n",
              "      <td>0.333333</td>\n",
              "      <td>0.333333</td>\n",
              "      <td>1.0</td>\n",
              "      <td>0.00</td>\n",
              "      <td>0.0</td>\n",
              "      <td>0.409091</td>\n",
              "      <td>0.4</td>\n",
              "      <td>1.0</td>\n",
              "      <td>0.75</td>\n",
              "      <td>0.2</td>\n",
              "      <td>0.444444</td>\n",
              "      <td>0.500</td>\n",
              "      <td>0.117647</td>\n",
              "      <td>0.245902</td>\n",
              "      <td>0.0</td>\n",
              "      <td>0.0</td>\n",
              "      <td>1.0</td>\n",
              "      <td>1.0</td>\n",
              "      <td>0.25</td>\n",
              "      <td>0.00000</td>\n",
              "      <td>0.333333</td>\n",
              "      <td>1.0</td>\n",
              "      <td>0.75</td>\n",
              "      <td>0.75</td>\n",
              "      <td>0.75</td>\n",
              "      <td>0.25</td>\n",
              "      <td>1.000000</td>\n",
              "      <td>0.129695</td>\n",
              "      <td>0.833333</td>\n",
              "      <td>0.00000</td>\n",
              "      <td>0.027397</td>\n",
              "      <td>0.130278</td>\n",
              "      <td>1.0</td>\n",
              "      <td>1.00</td>\n",
              "      <td>1.0</td>\n",
              "      <td>1.000000</td>\n",
              "      <td>0.328654</td>\n",
              "      <td>0.274092</td>\n",
              "      <td>0.0</td>\n",
              "      <td>0.497220</td>\n",
              "      <td>0.333333</td>\n",
              "      <td>0.0</td>\n",
              "      <td>0.333333</td>\n",
              "      <td>0.5</td>\n",
              "      <td>0.125</td>\n",
              "      <td>0.333333</td>\n",
              "      <td>0.333333</td>\n",
              "      <td>0.250000</td>\n",
              "      <td>1.00</td>\n",
              "      <td>0.000000</td>\n",
              "      <td>0.2</td>\n",
              "      <td>0.8</td>\n",
              "      <td>0.149533</td>\n",
              "      <td>0.333333</td>\n",
              "      <td>0.50</td>\n",
              "      <td>0.338505</td>\n",
              "      <td>0.666667</td>\n",
              "      <td>1.0</td>\n",
              "      <td>1.0</td>\n",
              "      <td>0.046674</td>\n",
              "      <td>0.054845</td>\n",
              "      <td>0.000000</td>\n",
              "      <td>0.629921</td>\n",
              "      <td>0.0</td>\n",
              "      <td>0.0</td>\n",
              "      <td>0.0</td>\n",
              "      <td>0.5</td>\n",
              "      <td>0.5</td>\n",
              "      <td>0.045161</td>\n",
              "      <td>0.818182</td>\n",
              "      <td>0.75</td>\n",
              "      <td>0.666667</td>\n",
              "      <td>0.75</td>\n",
              "      <td>0.0</td>\n",
              "      <td>0.0</td>\n",
              "      <td>0.0</td>\n",
              "    </tr>\n",
              "    <tr>\n",
              "      <th>6</th>\n",
              "      <td>7</td>\n",
              "      <td>12.634603</td>\n",
              "      <td>0.000000</td>\n",
              "      <td>0.75</td>\n",
              "      <td>0.471175</td>\n",
              "      <td>0.400943</td>\n",
              "      <td>1.0</td>\n",
              "      <td>1.0</td>\n",
              "      <td>0.000000</td>\n",
              "      <td>0.333333</td>\n",
              "      <td>1.0</td>\n",
              "      <td>0.00</td>\n",
              "      <td>0.0</td>\n",
              "      <td>0.818182</td>\n",
              "      <td>0.4</td>\n",
              "      <td>1.0</td>\n",
              "      <td>0.75</td>\n",
              "      <td>0.6</td>\n",
              "      <td>0.777778</td>\n",
              "      <td>0.500</td>\n",
              "      <td>0.022059</td>\n",
              "      <td>0.049180</td>\n",
              "      <td>0.0</td>\n",
              "      <td>0.0</td>\n",
              "      <td>1.0</td>\n",
              "      <td>1.0</td>\n",
              "      <td>1.00</td>\n",
              "      <td>0.11625</td>\n",
              "      <td>0.666667</td>\n",
              "      <td>1.0</td>\n",
              "      <td>1.00</td>\n",
              "      <td>1.00</td>\n",
              "      <td>0.75</td>\n",
              "      <td>0.75</td>\n",
              "      <td>1.000000</td>\n",
              "      <td>0.242558</td>\n",
              "      <td>0.833333</td>\n",
              "      <td>0.00000</td>\n",
              "      <td>0.135702</td>\n",
              "      <td>0.275941</td>\n",
              "      <td>1.0</td>\n",
              "      <td>1.00</td>\n",
              "      <td>1.0</td>\n",
              "      <td>1.000000</td>\n",
              "      <td>0.614465</td>\n",
              "      <td>0.000000</td>\n",
              "      <td>0.0</td>\n",
              "      <td>0.574387</td>\n",
              "      <td>0.333333</td>\n",
              "      <td>0.0</td>\n",
              "      <td>0.666667</td>\n",
              "      <td>0.0</td>\n",
              "      <td>0.375</td>\n",
              "      <td>0.333333</td>\n",
              "      <td>0.666667</td>\n",
              "      <td>0.416667</td>\n",
              "      <td>1.00</td>\n",
              "      <td>0.333333</td>\n",
              "      <td>0.8</td>\n",
              "      <td>0.8</td>\n",
              "      <td>0.028037</td>\n",
              "      <td>0.666667</td>\n",
              "      <td>0.50</td>\n",
              "      <td>0.448519</td>\n",
              "      <td>0.666667</td>\n",
              "      <td>1.0</td>\n",
              "      <td>1.0</td>\n",
              "      <td>0.297550</td>\n",
              "      <td>0.104205</td>\n",
              "      <td>0.000000</td>\n",
              "      <td>0.000000</td>\n",
              "      <td>0.0</td>\n",
              "      <td>0.0</td>\n",
              "      <td>0.0</td>\n",
              "      <td>1.0</td>\n",
              "      <td>1.0</td>\n",
              "      <td>0.000000</td>\n",
              "      <td>0.636364</td>\n",
              "      <td>0.25</td>\n",
              "      <td>0.666667</td>\n",
              "      <td>0.75</td>\n",
              "      <td>0.0</td>\n",
              "      <td>0.0</td>\n",
              "      <td>0.0</td>\n",
              "    </tr>\n",
              "    <tr>\n",
              "      <th>7</th>\n",
              "      <td>8</td>\n",
              "      <td>12.206073</td>\n",
              "      <td>0.235294</td>\n",
              "      <td>0.75</td>\n",
              "      <td>0.440313</td>\n",
              "      <td>0.406643</td>\n",
              "      <td>1.0</td>\n",
              "      <td>1.0</td>\n",
              "      <td>0.333333</td>\n",
              "      <td>0.333333</td>\n",
              "      <td>1.0</td>\n",
              "      <td>0.25</td>\n",
              "      <td>0.0</td>\n",
              "      <td>0.545455</td>\n",
              "      <td>1.0</td>\n",
              "      <td>1.0</td>\n",
              "      <td>0.75</td>\n",
              "      <td>1.0</td>\n",
              "      <td>0.666667</td>\n",
              "      <td>0.625</td>\n",
              "      <td>0.264706</td>\n",
              "      <td>0.606557</td>\n",
              "      <td>0.0</td>\n",
              "      <td>0.0</td>\n",
              "      <td>0.6</td>\n",
              "      <td>0.5</td>\n",
              "      <td>1.00</td>\n",
              "      <td>0.15000</td>\n",
              "      <td>0.333333</td>\n",
              "      <td>1.0</td>\n",
              "      <td>0.50</td>\n",
              "      <td>0.75</td>\n",
              "      <td>0.75</td>\n",
              "      <td>0.50</td>\n",
              "      <td>0.666667</td>\n",
              "      <td>0.152197</td>\n",
              "      <td>0.166667</td>\n",
              "      <td>0.02171</td>\n",
              "      <td>0.092466</td>\n",
              "      <td>0.181178</td>\n",
              "      <td>1.0</td>\n",
              "      <td>1.00</td>\n",
              "      <td>1.0</td>\n",
              "      <td>1.000000</td>\n",
              "      <td>0.453465</td>\n",
              "      <td>0.476029</td>\n",
              "      <td>0.0</td>\n",
              "      <td>0.648700</td>\n",
              "      <td>0.333333</td>\n",
              "      <td>0.0</td>\n",
              "      <td>0.666667</td>\n",
              "      <td>0.5</td>\n",
              "      <td>0.375</td>\n",
              "      <td>0.333333</td>\n",
              "      <td>0.333333</td>\n",
              "      <td>0.416667</td>\n",
              "      <td>1.00</td>\n",
              "      <td>0.666667</td>\n",
              "      <td>0.6</td>\n",
              "      <td>0.8</td>\n",
              "      <td>0.336449</td>\n",
              "      <td>0.666667</td>\n",
              "      <td>0.50</td>\n",
              "      <td>0.341326</td>\n",
              "      <td>0.666667</td>\n",
              "      <td>1.0</td>\n",
              "      <td>1.0</td>\n",
              "      <td>0.274212</td>\n",
              "      <td>0.372943</td>\n",
              "      <td>0.413043</td>\n",
              "      <td>0.000000</td>\n",
              "      <td>0.0</td>\n",
              "      <td>0.0</td>\n",
              "      <td>0.0</td>\n",
              "      <td>1.0</td>\n",
              "      <td>0.5</td>\n",
              "      <td>0.022581</td>\n",
              "      <td>0.909091</td>\n",
              "      <td>0.75</td>\n",
              "      <td>0.666667</td>\n",
              "      <td>0.75</td>\n",
              "      <td>1.0</td>\n",
              "      <td>0.0</td>\n",
              "      <td>0.0</td>\n",
              "    </tr>\n",
              "    <tr>\n",
              "      <th>8</th>\n",
              "      <td>9</td>\n",
              "      <td>11.774520</td>\n",
              "      <td>0.176471</td>\n",
              "      <td>0.25</td>\n",
              "      <td>0.328426</td>\n",
              "      <td>0.303205</td>\n",
              "      <td>1.0</td>\n",
              "      <td>1.0</td>\n",
              "      <td>0.000000</td>\n",
              "      <td>0.333333</td>\n",
              "      <td>1.0</td>\n",
              "      <td>0.00</td>\n",
              "      <td>0.0</td>\n",
              "      <td>0.181818</td>\n",
              "      <td>0.0</td>\n",
              "      <td>1.0</td>\n",
              "      <td>0.75</td>\n",
              "      <td>0.2</td>\n",
              "      <td>0.666667</td>\n",
              "      <td>0.500</td>\n",
              "      <td>0.566176</td>\n",
              "      <td>0.967213</td>\n",
              "      <td>0.0</td>\n",
              "      <td>0.0</td>\n",
              "      <td>0.8</td>\n",
              "      <td>0.4</td>\n",
              "      <td>0.25</td>\n",
              "      <td>0.00000</td>\n",
              "      <td>0.333333</td>\n",
              "      <td>1.0</td>\n",
              "      <td>0.25</td>\n",
              "      <td>0.50</td>\n",
              "      <td>0.75</td>\n",
              "      <td>0.25</td>\n",
              "      <td>0.833333</td>\n",
              "      <td>0.000000</td>\n",
              "      <td>0.833333</td>\n",
              "      <td>0.00000</td>\n",
              "      <td>0.407534</td>\n",
              "      <td>0.155810</td>\n",
              "      <td>1.0</td>\n",
              "      <td>0.75</td>\n",
              "      <td>1.0</td>\n",
              "      <td>0.333333</td>\n",
              "      <td>0.423231</td>\n",
              "      <td>0.364165</td>\n",
              "      <td>0.0</td>\n",
              "      <td>0.590710</td>\n",
              "      <td>0.000000</td>\n",
              "      <td>0.0</td>\n",
              "      <td>0.666667</td>\n",
              "      <td>0.0</td>\n",
              "      <td>0.250</td>\n",
              "      <td>0.666667</td>\n",
              "      <td>0.333333</td>\n",
              "      <td>0.500000</td>\n",
              "      <td>0.75</td>\n",
              "      <td>0.666667</td>\n",
              "      <td>0.6</td>\n",
              "      <td>0.4</td>\n",
              "      <td>0.719626</td>\n",
              "      <td>0.333333</td>\n",
              "      <td>0.50</td>\n",
              "      <td>0.330042</td>\n",
              "      <td>0.333333</td>\n",
              "      <td>1.0</td>\n",
              "      <td>1.0</td>\n",
              "      <td>0.105018</td>\n",
              "      <td>0.000000</td>\n",
              "      <td>0.371377</td>\n",
              "      <td>0.000000</td>\n",
              "      <td>0.0</td>\n",
              "      <td>0.0</td>\n",
              "      <td>0.0</td>\n",
              "      <td>1.0</td>\n",
              "      <td>1.0</td>\n",
              "      <td>0.000000</td>\n",
              "      <td>0.272727</td>\n",
              "      <td>0.50</td>\n",
              "      <td>0.666667</td>\n",
              "      <td>0.00</td>\n",
              "      <td>0.0</td>\n",
              "      <td>0.0</td>\n",
              "      <td>0.0</td>\n",
              "    </tr>\n",
              "    <tr>\n",
              "      <th>9</th>\n",
              "      <td>10</td>\n",
              "      <td>11.678440</td>\n",
              "      <td>1.000000</td>\n",
              "      <td>0.75</td>\n",
              "      <td>0.321097</td>\n",
              "      <td>0.340903</td>\n",
              "      <td>1.0</td>\n",
              "      <td>1.0</td>\n",
              "      <td>0.000000</td>\n",
              "      <td>0.333333</td>\n",
              "      <td>1.0</td>\n",
              "      <td>0.25</td>\n",
              "      <td>0.0</td>\n",
              "      <td>0.136364</td>\n",
              "      <td>0.0</td>\n",
              "      <td>0.0</td>\n",
              "      <td>0.00</td>\n",
              "      <td>0.4</td>\n",
              "      <td>0.444444</td>\n",
              "      <td>0.625</td>\n",
              "      <td>0.507353</td>\n",
              "      <td>0.967213</td>\n",
              "      <td>0.0</td>\n",
              "      <td>0.0</td>\n",
              "      <td>0.4</td>\n",
              "      <td>0.3</td>\n",
              "      <td>0.25</td>\n",
              "      <td>0.00000</td>\n",
              "      <td>0.333333</td>\n",
              "      <td>1.0</td>\n",
              "      <td>0.25</td>\n",
              "      <td>0.50</td>\n",
              "      <td>0.75</td>\n",
              "      <td>0.25</td>\n",
              "      <td>1.000000</td>\n",
              "      <td>0.150780</td>\n",
              "      <td>0.833333</td>\n",
              "      <td>0.00000</td>\n",
              "      <td>0.059932</td>\n",
              "      <td>0.162193</td>\n",
              "      <td>1.0</td>\n",
              "      <td>1.00</td>\n",
              "      <td>1.0</td>\n",
              "      <td>1.000000</td>\n",
              "      <td>0.443067</td>\n",
              "      <td>0.000000</td>\n",
              "      <td>0.0</td>\n",
              "      <td>0.414169</td>\n",
              "      <td>0.333333</td>\n",
              "      <td>0.0</td>\n",
              "      <td>0.333333</td>\n",
              "      <td>0.0</td>\n",
              "      <td>0.250</td>\n",
              "      <td>0.666667</td>\n",
              "      <td>0.333333</td>\n",
              "      <td>0.250000</td>\n",
              "      <td>1.00</td>\n",
              "      <td>0.666667</td>\n",
              "      <td>0.6</td>\n",
              "      <td>0.8</td>\n",
              "      <td>0.644860</td>\n",
              "      <td>0.666667</td>\n",
              "      <td>0.25</td>\n",
              "      <td>0.144570</td>\n",
              "      <td>1.000000</td>\n",
              "      <td>1.0</td>\n",
              "      <td>1.0</td>\n",
              "      <td>0.000000</td>\n",
              "      <td>0.007313</td>\n",
              "      <td>0.000000</td>\n",
              "      <td>0.000000</td>\n",
              "      <td>0.0</td>\n",
              "      <td>0.0</td>\n",
              "      <td>0.0</td>\n",
              "      <td>1.0</td>\n",
              "      <td>1.0</td>\n",
              "      <td>0.000000</td>\n",
              "      <td>0.000000</td>\n",
              "      <td>0.50</td>\n",
              "      <td>0.666667</td>\n",
              "      <td>0.75</td>\n",
              "      <td>0.0</td>\n",
              "      <td>0.0</td>\n",
              "      <td>0.0</td>\n",
              "    </tr>\n",
              "  </tbody>\n",
              "</table>\n",
              "</div>\n",
              "      <button class=\"colab-df-convert\" onclick=\"convertToInteractive('df-e5f9798e-c95d-4625-8f42-cfbed6b68963')\"\n",
              "              title=\"Convert this dataframe to an interactive table.\"\n",
              "              style=\"display:none;\">\n",
              "        \n",
              "  <svg xmlns=\"http://www.w3.org/2000/svg\" height=\"24px\"viewBox=\"0 0 24 24\"\n",
              "       width=\"24px\">\n",
              "    <path d=\"M0 0h24v24H0V0z\" fill=\"none\"/>\n",
              "    <path d=\"M18.56 5.44l.94 2.06.94-2.06 2.06-.94-2.06-.94-.94-2.06-.94 2.06-2.06.94zm-11 1L8.5 8.5l.94-2.06 2.06-.94-2.06-.94L8.5 2.5l-.94 2.06-2.06.94zm10 10l.94 2.06.94-2.06 2.06-.94-2.06-.94-.94-2.06-.94 2.06-2.06.94z\"/><path d=\"M17.41 7.96l-1.37-1.37c-.4-.4-.92-.59-1.43-.59-.52 0-1.04.2-1.43.59L10.3 9.45l-7.72 7.72c-.78.78-.78 2.05 0 2.83L4 21.41c.39.39.9.59 1.41.59.51 0 1.02-.2 1.41-.59l7.78-7.78 2.81-2.81c.8-.78.8-2.07 0-2.86zM5.41 20L4 18.59l7.72-7.72 1.47 1.35L5.41 20z\"/>\n",
              "  </svg>\n",
              "      </button>\n",
              "      \n",
              "  <style>\n",
              "    .colab-df-container {\n",
              "      display:flex;\n",
              "      flex-wrap:wrap;\n",
              "      gap: 12px;\n",
              "    }\n",
              "\n",
              "    .colab-df-convert {\n",
              "      background-color: #E8F0FE;\n",
              "      border: none;\n",
              "      border-radius: 50%;\n",
              "      cursor: pointer;\n",
              "      display: none;\n",
              "      fill: #1967D2;\n",
              "      height: 32px;\n",
              "      padding: 0 0 0 0;\n",
              "      width: 32px;\n",
              "    }\n",
              "\n",
              "    .colab-df-convert:hover {\n",
              "      background-color: #E2EBFA;\n",
              "      box-shadow: 0px 1px 2px rgba(60, 64, 67, 0.3), 0px 1px 3px 1px rgba(60, 64, 67, 0.15);\n",
              "      fill: #174EA6;\n",
              "    }\n",
              "\n",
              "    [theme=dark] .colab-df-convert {\n",
              "      background-color: #3B4455;\n",
              "      fill: #D2E3FC;\n",
              "    }\n",
              "\n",
              "    [theme=dark] .colab-df-convert:hover {\n",
              "      background-color: #434B5C;\n",
              "      box-shadow: 0px 1px 3px 1px rgba(0, 0, 0, 0.15);\n",
              "      filter: drop-shadow(0px 1px 2px rgba(0, 0, 0, 0.3));\n",
              "      fill: #FFFFFF;\n",
              "    }\n",
              "  </style>\n",
              "\n",
              "      <script>\n",
              "        const buttonEl =\n",
              "          document.querySelector('#df-e5f9798e-c95d-4625-8f42-cfbed6b68963 button.colab-df-convert');\n",
              "        buttonEl.style.display =\n",
              "          google.colab.kernel.accessAllowed ? 'block' : 'none';\n",
              "\n",
              "        async function convertToInteractive(key) {\n",
              "          const element = document.querySelector('#df-e5f9798e-c95d-4625-8f42-cfbed6b68963');\n",
              "          const dataTable =\n",
              "            await google.colab.kernel.invokeFunction('convertToInteractive',\n",
              "                                                     [key], {});\n",
              "          if (!dataTable) return;\n",
              "\n",
              "          const docLinkHtml = 'Like what you see? Visit the ' +\n",
              "            '<a target=\"_blank\" href=https://colab.research.google.com/notebooks/data_table.ipynb>data table notebook</a>'\n",
              "            + ' to learn more about interactive tables.';\n",
              "          element.innerHTML = '';\n",
              "          dataTable['output_type'] = 'display_data';\n",
              "          await google.colab.output.renderOutput(dataTable, element);\n",
              "          const docLink = document.createElement('div');\n",
              "          docLink.innerHTML = docLinkHtml;\n",
              "          element.appendChild(docLink);\n",
              "        }\n",
              "      </script>\n",
              "    </div>\n",
              "  </div>\n",
              "  "
            ],
            "text/plain": [
              "   Id  SalePrice  MSSubClass  MSZoning  LotFrontage   LotArea  Street  Alley  \\\n",
              "0   1  12.247694    0.235294      0.75     0.418208  0.366344     1.0    1.0   \n",
              "1   2  12.109011    0.000000      0.75     0.495064  0.391317     1.0    1.0   \n",
              "2   3  12.317167    0.235294      0.75     0.434909  0.422359     1.0    1.0   \n",
              "3   4  11.849398    0.294118      0.75     0.388581  0.390295     1.0    1.0   \n",
              "4   5  12.429216    0.235294      0.75     0.513123  0.468761     1.0    1.0   \n",
              "5   6  11.870600    0.176471      0.75     0.517503  0.466761     1.0    1.0   \n",
              "6   7  12.634603    0.000000      0.75     0.471175  0.400943     1.0    1.0   \n",
              "7   8  12.206073    0.235294      0.75     0.440313  0.406643     1.0    1.0   \n",
              "8   9  11.774520    0.176471      0.25     0.328426  0.303205     1.0    1.0   \n",
              "9  10  11.678440    1.000000      0.75     0.321097  0.340903     1.0    1.0   \n",
              "\n",
              "   LotShape  LandContour  Utilities  LotConfig  LandSlope  Neighborhood  \\\n",
              "0  0.000000     0.333333        1.0       0.00        0.0      0.636364   \n",
              "1  0.000000     0.333333        1.0       0.50        0.0      0.500000   \n",
              "2  0.333333     0.333333        1.0       0.00        0.0      0.636364   \n",
              "3  0.333333     0.333333        1.0       0.25        0.0      0.727273   \n",
              "4  0.333333     0.333333        1.0       0.50        0.0      1.000000   \n",
              "5  0.333333     0.333333        1.0       0.00        0.0      0.409091   \n",
              "6  0.000000     0.333333        1.0       0.00        0.0      0.818182   \n",
              "7  0.333333     0.333333        1.0       0.25        0.0      0.545455   \n",
              "8  0.000000     0.333333        1.0       0.00        0.0      0.181818   \n",
              "9  0.000000     0.333333        1.0       0.25        0.0      0.136364   \n",
              "\n",
              "   Condition1  Condition2  BldgType  HouseStyle  OverallQual  OverallCond  \\\n",
              "0         0.4         1.0      0.75         1.0     0.666667        0.500   \n",
              "1         0.2         1.0      0.75         0.6     0.555556        0.875   \n",
              "2         0.4         1.0      0.75         1.0     0.666667        0.500   \n",
              "3         0.4         1.0      0.75         1.0     0.666667        0.500   \n",
              "4         0.4         1.0      0.75         1.0     0.777778        0.500   \n",
              "5         0.4         1.0      0.75         0.2     0.444444        0.500   \n",
              "6         0.4         1.0      0.75         0.6     0.777778        0.500   \n",
              "7         1.0         1.0      0.75         1.0     0.666667        0.625   \n",
              "8         0.0         1.0      0.75         0.2     0.666667        0.500   \n",
              "9         0.0         0.0      0.00         0.4     0.444444        0.625   \n",
              "\n",
              "   YearBuilt  YearRemodAdd  RoofStyle  RoofMatl  Exterior1st  Exterior2nd  \\\n",
              "0   0.036765      0.098361        0.0       0.0          1.0          1.0   \n",
              "1   0.227941      0.524590        0.0       0.0          0.4          0.3   \n",
              "2   0.051471      0.114754        0.0       0.0          1.0          1.0   \n",
              "3   0.669118      0.606557        0.0       0.0          0.2          0.4   \n",
              "4   0.058824      0.147541        0.0       0.0          1.0          1.0   \n",
              "5   0.117647      0.245902        0.0       0.0          1.0          1.0   \n",
              "6   0.022059      0.049180        0.0       0.0          1.0          1.0   \n",
              "7   0.264706      0.606557        0.0       0.0          0.6          0.5   \n",
              "8   0.566176      0.967213        0.0       0.0          0.8          0.4   \n",
              "9   0.507353      0.967213        0.0       0.0          0.4          0.3   \n",
              "\n",
              "   MasVnrType  MasVnrArea  ExterQual  ExterCond  Foundation  BsmtQual  \\\n",
              "0        0.50     0.12250   0.666667        1.0        1.00      0.75   \n",
              "1        0.25     0.00000   0.333333        1.0        0.50      0.75   \n",
              "2        0.50     0.10125   0.666667        1.0        1.00      0.75   \n",
              "3        0.25     0.00000   0.333333        1.0        0.25      0.50   \n",
              "4        0.50     0.21875   0.666667        1.0        1.00      0.75   \n",
              "5        0.25     0.00000   0.333333        1.0        0.75      0.75   \n",
              "6        1.00     0.11625   0.666667        1.0        1.00      1.00   \n",
              "7        1.00     0.15000   0.333333        1.0        0.50      0.75   \n",
              "8        0.25     0.00000   0.333333        1.0        0.25      0.50   \n",
              "9        0.25     0.00000   0.333333        1.0        0.25      0.50   \n",
              "\n",
              "   BsmtCond  BsmtExposure  BsmtFinType1  BsmtFinSF1  BsmtFinType2  BsmtFinSF2  \\\n",
              "0      0.75          0.25      1.000000    0.125089      0.833333     0.00000   \n",
              "1      0.75          1.00      0.666667    0.173281      0.833333     0.00000   \n",
              "2      0.75          0.50      1.000000    0.086109      0.833333     0.00000   \n",
              "3      1.00          0.25      0.666667    0.038271      0.833333     0.00000   \n",
              "4      0.75          0.75      1.000000    0.116052      0.833333     0.00000   \n",
              "5      0.75          0.25      1.000000    0.129695      0.833333     0.00000   \n",
              "6      0.75          0.75      1.000000    0.242558      0.833333     0.00000   \n",
              "7      0.75          0.50      0.666667    0.152197      0.166667     0.02171   \n",
              "8      0.75          0.25      0.833333    0.000000      0.833333     0.00000   \n",
              "9      0.75          0.25      1.000000    0.150780      0.833333     0.00000   \n",
              "\n",
              "   BsmtUnfSF  TotalBsmtSF  Heating  HeatingQC  CentralAir  Electrical  \\\n",
              "0   0.064212     0.140098      1.0       1.00         1.0    1.000000   \n",
              "1   0.121575     0.206547      1.0       1.00         1.0    1.000000   \n",
              "2   0.185788     0.150573      1.0       1.00         1.0    1.000000   \n",
              "3   0.231164     0.123732      1.0       0.75         1.0    1.000000   \n",
              "4   0.209760     0.187398      1.0       1.00         1.0    1.000000   \n",
              "5   0.027397     0.130278      1.0       1.00         1.0    1.000000   \n",
              "6   0.135702     0.275941      1.0       1.00         1.0    1.000000   \n",
              "7   0.092466     0.181178      1.0       1.00         1.0    1.000000   \n",
              "8   0.407534     0.155810      1.0       0.75         1.0    0.333333   \n",
              "9   0.059932     0.162193      1.0       1.00         1.0    1.000000   \n",
              "\n",
              "   1stFlrSF  2ndFlrSF  LowQualFinSF  GrLivArea  BsmtFullBath  BsmtHalfBath  \\\n",
              "0  0.356155  0.413559           0.0   0.577712      0.333333           0.0   \n",
              "1  0.503056  0.000000           0.0   0.470245      0.000000           0.5   \n",
              "2  0.383441  0.419370           0.0   0.593095      0.333333           0.0   \n",
              "3  0.399941  0.366102           0.0   0.579157      0.333333           0.0   \n",
              "4  0.466237  0.509927           0.0   0.666523      0.333333           0.0   \n",
              "5  0.328654  0.274092           0.0   0.497220      0.333333           0.0   \n",
              "6  0.614465  0.000000           0.0   0.574387      0.333333           0.0   \n",
              "7  0.453465  0.476029           0.0   0.648700      0.333333           0.0   \n",
              "8  0.423231  0.364165           0.0   0.590710      0.000000           0.0   \n",
              "9  0.443067  0.000000           0.0   0.414169      0.333333           0.0   \n",
              "\n",
              "   FullBath  HalfBath  BedroomAbvGr  KitchenAbvGr  KitchenQual  TotRmsAbvGrd  \\\n",
              "0  0.666667       0.5         0.375      0.333333     0.666667      0.500000   \n",
              "1  0.666667       0.0         0.375      0.333333     0.333333      0.333333   \n",
              "2  0.666667       0.5         0.375      0.333333     0.666667      0.333333   \n",
              "3  0.333333       0.0         0.375      0.333333     0.666667      0.416667   \n",
              "4  0.666667       0.5         0.500      0.333333     0.666667      0.583333   \n",
              "5  0.333333       0.5         0.125      0.333333     0.333333      0.250000   \n",
              "6  0.666667       0.0         0.375      0.333333     0.666667      0.416667   \n",
              "7  0.666667       0.5         0.375      0.333333     0.333333      0.416667   \n",
              "8  0.666667       0.0         0.250      0.666667     0.333333      0.500000   \n",
              "9  0.333333       0.0         0.250      0.666667     0.333333      0.250000   \n",
              "\n",
              "   Functional  Fireplaces  FireplaceQu  GarageType  GarageYrBlt  GarageFinish  \\\n",
              "0        1.00    0.000000          0.2         0.8     0.046729      0.666667   \n",
              "1        1.00    0.333333          0.6         0.8     0.289720      0.666667   \n",
              "2        1.00    0.333333          0.6         0.8     0.065421      0.666667   \n",
              "3        1.00    0.333333          0.8         0.4     0.074766      0.333333   \n",
              "4        1.00    0.333333          0.6         0.8     0.074766      0.666667   \n",
              "5        1.00    0.000000          0.2         0.8     0.149533      0.333333   \n",
              "6        1.00    0.333333          0.8         0.8     0.028037      0.666667   \n",
              "7        1.00    0.666667          0.6         0.8     0.336449      0.666667   \n",
              "8        0.75    0.666667          0.6         0.4     0.719626      0.333333   \n",
              "9        1.00    0.666667          0.6         0.8     0.644860      0.666667   \n",
              "\n",
              "   GarageCars  GarageArea  GarageQual  GarageCond  PavedDrive  WoodDeckSF  \\\n",
              "0        0.50    0.386460    0.666667         1.0         1.0    0.000000   \n",
              "1        0.50    0.324401    0.666667         1.0         1.0    0.347725   \n",
              "2        0.50    0.428773    0.666667         1.0         1.0    0.000000   \n",
              "3        0.75    0.452750    0.666667         1.0         1.0    0.000000   \n",
              "4        0.75    0.589563    0.666667         1.0         1.0    0.224037   \n",
              "5        0.50    0.338505    0.666667         1.0         1.0    0.046674   \n",
              "6        0.50    0.448519    0.666667         1.0         1.0    0.297550   \n",
              "7        0.50    0.341326    0.666667         1.0         1.0    0.274212   \n",
              "8        0.50    0.330042    0.333333         1.0         1.0    0.105018   \n",
              "9        0.25    0.144570    1.000000         1.0         1.0    0.000000   \n",
              "\n",
              "   OpenPorchSF  EnclosedPorch  3SsnPorch  ScreenPorch  PoolArea  PoolQC  \\\n",
              "0     0.111517       0.000000   0.000000          0.0       0.0     0.0   \n",
              "1     0.000000       0.000000   0.000000          0.0       0.0     0.0   \n",
              "2     0.076782       0.000000   0.000000          0.0       0.0     0.0   \n",
              "3     0.063985       0.492754   0.000000          0.0       0.0     0.0   \n",
              "4     0.153565       0.000000   0.000000          0.0       0.0     0.0   \n",
              "5     0.054845       0.000000   0.629921          0.0       0.0     0.0   \n",
              "6     0.104205       0.000000   0.000000          0.0       0.0     0.0   \n",
              "7     0.372943       0.413043   0.000000          0.0       0.0     0.0   \n",
              "8     0.000000       0.371377   0.000000          0.0       0.0     0.0   \n",
              "9     0.007313       0.000000   0.000000          0.0       0.0     0.0   \n",
              "\n",
              "   Fence  MiscFeature   MiscVal    MoSold  YrSold  SaleType  SaleCondition  \\\n",
              "0    1.0          1.0  0.000000  0.090909    0.50  0.666667           0.75   \n",
              "1    1.0          1.0  0.000000  0.363636    0.25  0.666667           0.75   \n",
              "2    1.0          1.0  0.000000  0.727273    0.50  0.666667           0.75   \n",
              "3    1.0          1.0  0.000000  0.090909    0.00  0.666667           0.00   \n",
              "4    1.0          1.0  0.000000  1.000000    0.50  0.666667           0.75   \n",
              "5    0.5          0.5  0.045161  0.818182    0.75  0.666667           0.75   \n",
              "6    1.0          1.0  0.000000  0.636364    0.25  0.666667           0.75   \n",
              "7    1.0          0.5  0.022581  0.909091    0.75  0.666667           0.75   \n",
              "8    1.0          1.0  0.000000  0.272727    0.50  0.666667           0.00   \n",
              "9    1.0          1.0  0.000000  0.000000    0.50  0.666667           0.75   \n",
              "\n",
              "   LotFrontagenan  MasVnrAreanan  GarageYrBltnan  \n",
              "0             0.0            0.0             0.0  \n",
              "1             0.0            0.0             0.0  \n",
              "2             0.0            0.0             0.0  \n",
              "3             0.0            0.0             0.0  \n",
              "4             0.0            0.0             0.0  \n",
              "5             0.0            0.0             0.0  \n",
              "6             0.0            0.0             0.0  \n",
              "7             1.0            0.0             0.0  \n",
              "8             0.0            0.0             0.0  \n",
              "9             0.0            0.0             0.0  "
            ]
          },
          "metadata": {},
          "execution_count": 169
        }
      ]
    },
    {
      "cell_type": "code",
      "source": [
        "dataset.shape"
      ],
      "metadata": {
        "colab": {
          "base_uri": "https://localhost:8080/"
        },
        "id": "3fIcYbAnPneB",
        "outputId": "f0085918-5672-45c1-8d62-600e8ba75d29"
      },
      "execution_count": 170,
      "outputs": [
        {
          "output_type": "execute_result",
          "data": {
            "text/plain": [
              "(1460, 84)"
            ]
          },
          "metadata": {},
          "execution_count": 170
        }
      ]
    },
    {
      "cell_type": "markdown",
      "source": [
        "##Linear Regression"
      ],
      "metadata": {
        "id": "sDlYueIdZQPg"
      }
    },
    {
      "cell_type": "code",
      "source": [
        "from sklearn.linear_model import LinearRegression\n",
        "from sklearn.model_selection import train_test_split"
      ],
      "metadata": {
        "id": "UXEjLHGKNmqp"
      },
      "execution_count": 171,
      "outputs": []
    },
    {
      "cell_type": "code",
      "source": [
        "x_train, x_test, y_train, y_test = train_test_split(dataset, dataset[\"SalePrice\"], test_size = 0.1, random_state = 42)"
      ],
      "metadata": {
        "id": "WxqsMHLWQKB3"
      },
      "execution_count": 172,
      "outputs": []
    },
    {
      "cell_type": "code",
      "source": [
        "y_test.shape"
      ],
      "metadata": {
        "colab": {
          "base_uri": "https://localhost:8080/"
        },
        "id": "MD5wDfUzS03x",
        "outputId": "95ec1aff-548c-42ea-993d-1990bc07ab30"
      },
      "execution_count": 173,
      "outputs": [
        {
          "output_type": "execute_result",
          "data": {
            "text/plain": [
              "(146,)"
            ]
          },
          "metadata": {},
          "execution_count": 173
        }
      ]
    },
    {
      "cell_type": "code",
      "source": [
        "lin_reg = LinearRegression()"
      ],
      "metadata": {
        "id": "vCX4mIFNTEnR"
      },
      "execution_count": 174,
      "outputs": []
    },
    {
      "cell_type": "code",
      "source": [
        "lin_reg.fit(x_train, y_train)"
      ],
      "metadata": {
        "colab": {
          "base_uri": "https://localhost:8080/"
        },
        "id": "hIGNRCvcT7bB",
        "outputId": "0b56d87e-6b11-48ff-e8e2-64206669d62b"
      },
      "execution_count": 175,
      "outputs": [
        {
          "output_type": "execute_result",
          "data": {
            "text/plain": [
              "LinearRegression()"
            ]
          },
          "metadata": {},
          "execution_count": 175
        }
      ]
    },
    {
      "cell_type": "code",
      "source": [
        "print(lin_reg.coef_)"
      ],
      "metadata": {
        "colab": {
          "base_uri": "https://localhost:8080/"
        },
        "id": "SP_T6X8JT9ho",
        "outputId": "3510786d-f540-4a2c-c0e5-89680983e8f9"
      },
      "execution_count": 176,
      "outputs": [
        {
          "output_type": "stream",
          "name": "stdout",
          "text": [
            "[-3.06433592e-17  1.00000000e+00 -7.02216063e-15  8.60422844e-15\n",
            "  1.51351154e-13 -1.51878510e-13  1.05184091e-13 -1.27203803e-13\n",
            "  2.02948769e-13  7.55784324e-14  6.83758605e-13 -5.61911628e-14\n",
            " -8.00054467e-15 -2.57849297e-14 -6.94557259e-14 -6.41387984e-14\n",
            " -7.83470511e-14 -8.14071033e-14 -1.98285832e-13 -1.09773302e-14\n",
            " -2.90045765e-15 -4.84681739e-15  6.38378239e-15  3.62210262e-14\n",
            " -3.39450690e-14  4.01276234e-14 -1.86115012e-13  3.08130257e-16\n",
            " -1.78294879e-14  1.66602843e-13 -2.36755060e-14 -7.35453365e-14\n",
            "  3.57214258e-14 -1.78586312e-13  5.92997873e-14  4.04752620e-13\n",
            " -1.19626531e-14  8.78186412e-14  1.47368229e-13  4.49092152e-13\n",
            " -5.00710584e-14  9.67420588e-14 -2.60621386e-13 -4.37289094e-14\n",
            " -2.25874874e-13  2.81719092e-14  1.48457635e-13 -7.97417687e-14\n",
            "  5.23192600e-14 -2.80775403e-13 -1.39749323e-14 -7.40796313e-14\n",
            "  1.40214229e-13 -3.43371165e-13 -1.40443213e-14  4.56440441e-14\n",
            " -1.45716772e-15 -2.41473508e-14 -1.00447428e-13  1.19029786e-13\n",
            " -7.24142968e-14  1.09995346e-13  1.21909427e-13 -1.47798440e-14\n",
            " -1.66339165e-13  1.97411532e-13 -6.36539432e-14 -1.30492839e-13\n",
            "  3.51385587e-14  8.45365444e-14 -2.72198930e-13  5.17780263e-14\n",
            "  1.18974969e-12 -1.31178401e-12 -9.24607613e-14 -3.89271948e-14\n",
            " -7.49025841e-13  7.93670685e-14 -2.96984659e-15 -1.10716991e-13\n",
            " -9.26758670e-14  1.71529457e-14  6.38378239e-14  1.10966791e-13]\n"
          ]
        }
      ]
    },
    {
      "cell_type": "code",
      "source": [
        "print(lin_reg.intercept_)"
      ],
      "metadata": {
        "colab": {
          "base_uri": "https://localhost:8080/"
        },
        "id": "Baqwu91QUCio",
        "outputId": "a875d50c-1a48-44e9-f5d2-5f9710b2ab67"
      },
      "execution_count": 177,
      "outputs": [
        {
          "output_type": "stream",
          "name": "stdout",
          "text": [
            "-1.4601653219870059e-12\n"
          ]
        }
      ]
    },
    {
      "cell_type": "code",
      "source": [
        "pd.DataFrame(lin_reg.coef_,x_train.columns, columns= [\"Coeff\"]).sort_values(by= [\"Coeff\"], ascending = False).head(10)"
      ],
      "metadata": {
        "colab": {
          "base_uri": "https://localhost:8080/",
          "height": 363
        },
        "id": "1iZxdK4nUIvo",
        "outputId": "df204e11-6356-48c9-add1-575c185b765e"
      },
      "execution_count": 178,
      "outputs": [
        {
          "output_type": "execute_result",
          "data": {
            "text/html": [
              "\n",
              "  <div id=\"df-f822e014-c4e0-4ef7-9ac6-d800b4cc3ca2\">\n",
              "    <div class=\"colab-df-container\">\n",
              "      <div>\n",
              "<style scoped>\n",
              "    .dataframe tbody tr th:only-of-type {\n",
              "        vertical-align: middle;\n",
              "    }\n",
              "\n",
              "    .dataframe tbody tr th {\n",
              "        vertical-align: top;\n",
              "    }\n",
              "\n",
              "    .dataframe thead th {\n",
              "        text-align: right;\n",
              "    }\n",
              "</style>\n",
              "<table border=\"1\" class=\"dataframe\">\n",
              "  <thead>\n",
              "    <tr style=\"text-align: right;\">\n",
              "      <th></th>\n",
              "      <th>Coeff</th>\n",
              "    </tr>\n",
              "  </thead>\n",
              "  <tbody>\n",
              "    <tr>\n",
              "      <th>SalePrice</th>\n",
              "      <td>1.000000e+00</td>\n",
              "    </tr>\n",
              "    <tr>\n",
              "      <th>PoolArea</th>\n",
              "      <td>1.189750e-12</td>\n",
              "    </tr>\n",
              "    <tr>\n",
              "      <th>Utilities</th>\n",
              "      <td>6.837586e-13</td>\n",
              "    </tr>\n",
              "    <tr>\n",
              "      <th>TotalBsmtSF</th>\n",
              "      <td>4.490922e-13</td>\n",
              "    </tr>\n",
              "    <tr>\n",
              "      <th>BsmtFinSF1</th>\n",
              "      <td>4.047526e-13</td>\n",
              "    </tr>\n",
              "    <tr>\n",
              "      <th>LotShape</th>\n",
              "      <td>2.029488e-13</td>\n",
              "    </tr>\n",
              "    <tr>\n",
              "      <th>GarageCond</th>\n",
              "      <td>1.974115e-13</td>\n",
              "    </tr>\n",
              "    <tr>\n",
              "      <th>ExterCond</th>\n",
              "      <td>1.666028e-13</td>\n",
              "    </tr>\n",
              "    <tr>\n",
              "      <th>LotFrontage</th>\n",
              "      <td>1.513512e-13</td>\n",
              "    </tr>\n",
              "    <tr>\n",
              "      <th>LowQualFinSF</th>\n",
              "      <td>1.484576e-13</td>\n",
              "    </tr>\n",
              "  </tbody>\n",
              "</table>\n",
              "</div>\n",
              "      <button class=\"colab-df-convert\" onclick=\"convertToInteractive('df-f822e014-c4e0-4ef7-9ac6-d800b4cc3ca2')\"\n",
              "              title=\"Convert this dataframe to an interactive table.\"\n",
              "              style=\"display:none;\">\n",
              "        \n",
              "  <svg xmlns=\"http://www.w3.org/2000/svg\" height=\"24px\"viewBox=\"0 0 24 24\"\n",
              "       width=\"24px\">\n",
              "    <path d=\"M0 0h24v24H0V0z\" fill=\"none\"/>\n",
              "    <path d=\"M18.56 5.44l.94 2.06.94-2.06 2.06-.94-2.06-.94-.94-2.06-.94 2.06-2.06.94zm-11 1L8.5 8.5l.94-2.06 2.06-.94-2.06-.94L8.5 2.5l-.94 2.06-2.06.94zm10 10l.94 2.06.94-2.06 2.06-.94-2.06-.94-.94-2.06-.94 2.06-2.06.94z\"/><path d=\"M17.41 7.96l-1.37-1.37c-.4-.4-.92-.59-1.43-.59-.52 0-1.04.2-1.43.59L10.3 9.45l-7.72 7.72c-.78.78-.78 2.05 0 2.83L4 21.41c.39.39.9.59 1.41.59.51 0 1.02-.2 1.41-.59l7.78-7.78 2.81-2.81c.8-.78.8-2.07 0-2.86zM5.41 20L4 18.59l7.72-7.72 1.47 1.35L5.41 20z\"/>\n",
              "  </svg>\n",
              "      </button>\n",
              "      \n",
              "  <style>\n",
              "    .colab-df-container {\n",
              "      display:flex;\n",
              "      flex-wrap:wrap;\n",
              "      gap: 12px;\n",
              "    }\n",
              "\n",
              "    .colab-df-convert {\n",
              "      background-color: #E8F0FE;\n",
              "      border: none;\n",
              "      border-radius: 50%;\n",
              "      cursor: pointer;\n",
              "      display: none;\n",
              "      fill: #1967D2;\n",
              "      height: 32px;\n",
              "      padding: 0 0 0 0;\n",
              "      width: 32px;\n",
              "    }\n",
              "\n",
              "    .colab-df-convert:hover {\n",
              "      background-color: #E2EBFA;\n",
              "      box-shadow: 0px 1px 2px rgba(60, 64, 67, 0.3), 0px 1px 3px 1px rgba(60, 64, 67, 0.15);\n",
              "      fill: #174EA6;\n",
              "    }\n",
              "\n",
              "    [theme=dark] .colab-df-convert {\n",
              "      background-color: #3B4455;\n",
              "      fill: #D2E3FC;\n",
              "    }\n",
              "\n",
              "    [theme=dark] .colab-df-convert:hover {\n",
              "      background-color: #434B5C;\n",
              "      box-shadow: 0px 1px 3px 1px rgba(0, 0, 0, 0.15);\n",
              "      filter: drop-shadow(0px 1px 2px rgba(0, 0, 0, 0.3));\n",
              "      fill: #FFFFFF;\n",
              "    }\n",
              "  </style>\n",
              "\n",
              "      <script>\n",
              "        const buttonEl =\n",
              "          document.querySelector('#df-f822e014-c4e0-4ef7-9ac6-d800b4cc3ca2 button.colab-df-convert');\n",
              "        buttonEl.style.display =\n",
              "          google.colab.kernel.accessAllowed ? 'block' : 'none';\n",
              "\n",
              "        async function convertToInteractive(key) {\n",
              "          const element = document.querySelector('#df-f822e014-c4e0-4ef7-9ac6-d800b4cc3ca2');\n",
              "          const dataTable =\n",
              "            await google.colab.kernel.invokeFunction('convertToInteractive',\n",
              "                                                     [key], {});\n",
              "          if (!dataTable) return;\n",
              "\n",
              "          const docLinkHtml = 'Like what you see? Visit the ' +\n",
              "            '<a target=\"_blank\" href=https://colab.research.google.com/notebooks/data_table.ipynb>data table notebook</a>'\n",
              "            + ' to learn more about interactive tables.';\n",
              "          element.innerHTML = '';\n",
              "          dataTable['output_type'] = 'display_data';\n",
              "          await google.colab.output.renderOutput(dataTable, element);\n",
              "          const docLink = document.createElement('div');\n",
              "          docLink.innerHTML = docLinkHtml;\n",
              "          element.appendChild(docLink);\n",
              "        }\n",
              "      </script>\n",
              "    </div>\n",
              "  </div>\n",
              "  "
            ],
            "text/plain": [
              "                     Coeff\n",
              "SalePrice     1.000000e+00\n",
              "PoolArea      1.189750e-12\n",
              "Utilities     6.837586e-13\n",
              "TotalBsmtSF   4.490922e-13\n",
              "BsmtFinSF1    4.047526e-13\n",
              "LotShape      2.029488e-13\n",
              "GarageCond    1.974115e-13\n",
              "ExterCond     1.666028e-13\n",
              "LotFrontage   1.513512e-13\n",
              "LowQualFinSF  1.484576e-13"
            ]
          },
          "metadata": {},
          "execution_count": 178
        }
      ]
    },
    {
      "cell_type": "code",
      "source": [
        "predictions = lin_reg.predict(x_test)"
      ],
      "metadata": {
        "id": "F6GZxzkqUfgI"
      },
      "execution_count": 179,
      "outputs": []
    },
    {
      "cell_type": "code",
      "source": [
        "predictions"
      ],
      "metadata": {
        "colab": {
          "base_uri": "https://localhost:8080/"
        },
        "id": "cc2XBDoeUtfJ",
        "outputId": "acfc3da1-5d6c-45ea-c639-ab57692af895"
      },
      "execution_count": 180,
      "outputs": [
        {
          "output_type": "execute_result",
          "data": {
            "text/plain": [
              "array([11.94794938, 12.69158046, 11.65268741, 11.97665948, 12.66191396,\n",
              "       11.23188794, 12.64915462, 11.8913619 , 11.34450681, 11.81672692,\n",
              "       11.88448902, 11.77528973, 11.30220443, 12.27373129, 12.10625231,\n",
              "       11.80931948, 12.11996995, 11.81303006, 11.681824  , 12.32829028,\n",
              "       11.9511804 , 12.25486281, 12.06393288, 11.76756768, 12.16525065,\n",
              "       11.94405832, 12.10699237, 11.85651517, 12.10625231, 12.24961095,\n",
              "       11.75194237, 12.55672952, 12.20856953, 11.81857024, 12.44901882,\n",
              "       11.8493977 , 11.83500896, 12.29910751, 12.64432758, 11.48246626,\n",
              "       11.6483301 , 12.23076526, 11.69107165, 12.4423022 , 11.76368418,\n",
              "       11.67419361, 11.65268741, 11.75194237, 13.02132683, 11.87756858,\n",
              "       11.68687877, 12.18586994, 11.65268741, 12.56723749, 11.88103479,\n",
              "       12.46843691, 12.26904744, 12.07254125, 11.58058411, 11.58524613,\n",
              "       11.13458902, 11.94470788, 12.66665705, 12.48420426, 12.55483688,\n",
              "       12.40081672, 11.59910316, 12.62806706, 11.44571672, 12.07823927,\n",
              "       11.68568478, 11.80559508, 11.59917655, 11.44571672, 13.32392695,\n",
              "       12.06104687, 12.75995776, 12.73963776, 11.85651517, 11.7352687 ,\n",
              "       11.6784399 , 11.1124479 , 11.6351431 , 11.42190607, 11.91505167,\n",
              "       11.79810441, 12.49125159, 12.15477935, 11.95697006, 11.95655303,\n",
              "       11.94145585, 11.9316358 , 11.73206099, 12.61486554, 11.82407989,\n",
              "       12.04349489, 12.23076526, 12.12214741, 12.23027733, 12.46843691,\n",
              "       12.00456827, 12.32341114, 12.4049235 , 11.7905572 , 12.17561344,\n",
              "       11.96081129, 11.95761129, 12.52452638, 11.88448902, 11.81303006,\n",
              "       11.00209984, 11.72803684, 11.75194237, 11.8313792 , 12.27139211,\n",
              "       11.68687877, 11.58896015, 11.71993963, 11.62625415, 12.55672952,\n",
              "       11.79810441, 11.91170158, 12.03765399, 12.24047407, 12.07254125,\n",
              "       11.8277362 , 12.37158708, 11.2835123 , 11.87756858, 12.00089179,\n",
              "       12.13296417, 12.82098798, 12.19551713, 11.55214618, 10.47194981,\n",
              "       12.72932079, 12.8139179 , 11.77721096, 12.34583459, 13.53447303,\n",
              "       12.90669184, 11.7905572 , 12.08953883, 11.82407989, 11.88448902,\n",
              "       11.71993963])"
            ]
          },
          "metadata": {},
          "execution_count": 180
        }
      ]
    },
    {
      "cell_type": "code",
      "source": [
        "plt.scatter(y_test, predictions)"
      ],
      "metadata": {
        "colab": {
          "base_uri": "https://localhost:8080/",
          "height": 282
        },
        "id": "U4qivsx7Uu8p",
        "outputId": "3f5ebbb4-95b5-4133-f295-8203d686912c"
      },
      "execution_count": 181,
      "outputs": [
        {
          "output_type": "execute_result",
          "data": {
            "text/plain": [
              "<matplotlib.collections.PathCollection at 0x7fb38be7b690>"
            ]
          },
          "metadata": {},
          "execution_count": 181
        },
        {
          "output_type": "display_data",
          "data": {
            "image/png": "[encoded data removed]",
            "text/plain": [
              "<Figure size 432x288 with 1 Axes>"
            ]
          },
          "metadata": {
            "needs_background": "light"
          }
        }
      ]
    },
    {
      "cell_type": "code",
      "source": [
        "plt.hist(y_test - predictions)"
      ],
      "metadata": {
        "colab": {
          "base_uri": "https://localhost:8080/",
          "height": 365
        },
        "id": "OaInKsFbU_7g",
        "outputId": "d9458bfb-9e5d-4a65-a950-b962e08a17c8"
      },
      "execution_count": 182,
      "outputs": [
        {
          "output_type": "execute_result",
          "data": {
            "text/plain": [
              "(array([ 1.,  3.,  3.,  7., 23., 41., 26., 28.,  8.,  6.]),\n",
              " array([-4.63629135e-13, -3.87601062e-13, -3.11572990e-13, -2.35544917e-13,\n",
              "        -1.59516844e-13, -8.34887715e-14, -7.46069873e-15,  6.85673740e-14,\n",
              "         1.44595447e-13,  2.20623519e-13,  2.96651592e-13]),\n",
              " <a list of 10 Patch objects>)"
            ]
          },
          "metadata": {},
          "execution_count": 182
        },
        {
          "output_type": "display_data",
          "data": {
            "image/png": "[encoded data removed]",
            "text/plain": [
              "<Figure size 432x288 with 1 Axes>"
            ]
          },
          "metadata": {
            "needs_background": "light"
          }
        }
      ]
    },
    {
      "cell_type": "code",
      "source": [
        "lin_reg.score(x_test, predictions)"
      ],
      "metadata": {
        "colab": {
          "base_uri": "https://localhost:8080/"
        },
        "id": "RpYC2nbeXjd0",
        "outputId": "78b93aaf-446d-4488-98fa-ceeb56ed36a0"
      },
      "execution_count": 244,
      "outputs": [
        {
          "output_type": "execute_result",
          "data": {
            "text/plain": [
              "0.9986862446996402"
            ]
          },
          "metadata": {},
          "execution_count": 244
        }
      ]
    },
    {
      "cell_type": "code",
      "source": [
        "lin_reg.score(x_test, y_test)"
      ],
      "metadata": {
        "colab": {
          "base_uri": "https://localhost:8080/"
        },
        "id": "y7jQP2kMgqOh",
        "outputId": "f9ac8dab-38c8-4cc5-e1e3-ff6b5c436e85"
      },
      "execution_count": 245,
      "outputs": [
        {
          "output_type": "execute_result",
          "data": {
            "text/plain": [
              "1.0"
            ]
          },
          "metadata": {},
          "execution_count": 245
        }
      ]
    },
    {
      "cell_type": "code",
      "source": [
        "from sklearn import metrics"
      ],
      "metadata": {
        "id": "d6JDaYnwYYDY"
      },
      "execution_count": 184,
      "outputs": []
    },
    {
      "cell_type": "code",
      "source": [
        "metrics.mean_absolute_error(y_test, predictions)"
      ],
      "metadata": {
        "colab": {
          "base_uri": "https://localhost:8080/"
        },
        "id": "pG_utCyZYjNY",
        "outputId": "4eee3bd2-b75a-40ec-995e-b435d6827c82"
      },
      "execution_count": 185,
      "outputs": [
        {
          "output_type": "execute_result",
          "data": {
            "text/plain": [
              "1.016051778481609e-13"
            ]
          },
          "metadata": {},
          "execution_count": 185
        }
      ]
    },
    {
      "cell_type": "code",
      "source": [
        "metrics.mean_squared_error(y_test, predictions)"
      ],
      "metadata": {
        "colab": {
          "base_uri": "https://localhost:8080/"
        },
        "id": "265ROG1XYmeQ",
        "outputId": "fa002826-b934-4931-c782-25e88acba372"
      },
      "execution_count": 186,
      "outputs": [
        {
          "output_type": "execute_result",
          "data": {
            "text/plain": [
              "1.6626918556167196e-26"
            ]
          },
          "metadata": {},
          "execution_count": 186
        }
      ]
    },
    {
      "cell_type": "code",
      "source": [
        "np.sqrt(metrics.mean_squared_error(y_test, predictions))"
      ],
      "metadata": {
        "colab": {
          "base_uri": "https://localhost:8080/"
        },
        "id": "tEJq9U83YtA0",
        "outputId": "0e9e13a9-0a0b-4704-b69b-2792aa24abfa"
      },
      "execution_count": 187,
      "outputs": [
        {
          "output_type": "execute_result",
          "data": {
            "text/plain": [
              "1.2894540920935183e-13"
            ]
          },
          "metadata": {},
          "execution_count": 187
        }
      ]
    },
    {
      "cell_type": "markdown",
      "source": [
        "## Decision Trees"
      ],
      "metadata": {
        "id": "6utK5kslZPE5"
      }
    },
    {
      "cell_type": "code",
      "source": [
        "from sklearn.tree import DecisionTreeRegressor"
      ],
      "metadata": {
        "id": "2Ri9TUsHYydE"
      },
      "execution_count": 188,
      "outputs": []
    },
    {
      "cell_type": "code",
      "source": [
        "dec = DecisionTreeRegressor()"
      ],
      "metadata": {
        "id": "yQCYjt9KZpOY"
      },
      "execution_count": 189,
      "outputs": []
    },
    {
      "cell_type": "code",
      "source": [
        "dec.fit(x_train , y_train)"
      ],
      "metadata": {
        "colab": {
          "base_uri": "https://localhost:8080/"
        },
        "id": "CHOKBdTFZsAg",
        "outputId": "5be36d29-ab8d-4e87-b6f2-d1103c55e684"
      },
      "execution_count": 190,
      "outputs": [
        {
          "output_type": "execute_result",
          "data": {
            "text/plain": [
              "DecisionTreeRegressor()"
            ]
          },
          "metadata": {},
          "execution_count": 190
        }
      ]
    },
    {
      "cell_type": "code",
      "source": [
        "train_preds = dec.predict(x_test)"
      ],
      "metadata": {
        "id": "HBQVtMnSZuSQ"
      },
      "execution_count": 191,
      "outputs": []
    },
    {
      "cell_type": "code",
      "source": [
        "train_preds"
      ],
      "metadata": {
        "colab": {
          "base_uri": "https://localhost:8080/"
        },
        "id": "nv2gPSKIa6Hg",
        "outputId": "55f5ce55-d92d-4c7f-d5a7-3a916efcd626"
      },
      "execution_count": 192,
      "outputs": [
        {
          "output_type": "execute_result",
          "data": {
            "text/plain": [
              "array([11.9511804 , 12.69158046, 11.65268741, 11.97665948, 12.66270604,\n",
              "       11.22524339, 12.64432758, 11.8913619 , 11.34450681, 11.82041016,\n",
              "       11.88448902, 11.77528973, 11.30220443, 12.27373129, 12.10625231,\n",
              "       11.80931948, 12.11669483, 11.81303006, 11.68266824, 12.3327053 ,\n",
              "       11.9511804 , 12.25486281, 12.06681058, 11.76756768, 12.16525065,\n",
              "       11.94470788, 12.10625231, 11.85651517, 12.10625231, 12.25247902,\n",
              "       11.75194237, 12.56024446, 12.20856953, 11.820116  , 12.44901882,\n",
              "       11.8493977 , 11.83428406, 12.29910751, 12.64109656, 11.48246626,\n",
              "       11.64836504, 12.229545  , 11.69107165, 12.44508955, 11.76368418,\n",
              "       11.66992921, 11.65268741, 11.75194237, 12.96219463, 11.87756858,\n",
              "       11.68687877, 12.18586994, 11.65268741, 12.56723749, 11.88103479,\n",
              "       12.46458334, 12.26904744, 12.07254125, 11.58058411, 11.58058411,\n",
              "       11.19134184, 11.94470788, 12.66980666, 12.48582713, 12.56024446,\n",
              "       12.4049235 , 11.59910316, 12.63460303, 11.46163217, 12.07823927,\n",
              "       11.68657621, 11.80335376, 11.59910316, 11.45899712, 13.27582754,\n",
              "       12.05980333, 12.76568843, 12.7512997 , 11.85651517, 11.7352687 ,\n",
              "       11.6784399 , 11.04104808, 11.6307085 , 11.42409425, 11.91772368,\n",
              "       11.79810441, 12.49500394, 12.15477935, 11.95761129, 11.95761129,\n",
              "       11.94039339, 11.9316358 , 11.73206099, 12.6165253 , 11.82407989,\n",
              "       12.04355372, 12.23076526, 12.12269104, 12.23076526, 12.46651198,\n",
              "       12.00762171, 12.32341114, 12.40901349, 11.7905572 , 12.17303279,\n",
              "       11.96356787, 11.95761129, 12.52352588, 11.88448902, 11.81303006,\n",
              "       10.97678203, 11.72803684, 11.75194237, 11.83101549, 12.27134527,\n",
              "       11.68687877, 11.5943211 , 11.71993963, 11.62625415, 12.56024446,\n",
              "       11.79810441, 11.91371298, 12.03765399, 12.24047407, 12.07254125,\n",
              "       11.8277362 , 12.37158708, 11.28853113, 11.87756858, 12.00150548,\n",
              "       12.13269518, 12.82362845, 12.19551713, 11.54442413, 10.54270639,\n",
              "       12.72783821, 12.82772919, 11.7829526 , 12.34583459, 13.34550693,\n",
              "       12.90420737, 11.7905572 , 12.08953883, 11.82407989, 11.88448902,\n",
              "       11.71993963])"
            ]
          },
          "metadata": {},
          "execution_count": 192
        }
      ]
    },
    {
      "cell_type": "code",
      "source": [
        "dec.score(x_test, train_preds)"
      ],
      "metadata": {
        "colab": {
          "base_uri": "https://localhost:8080/"
        },
        "id": "z6xSfKBrcI6Y",
        "outputId": "3973ba8e-7d13-4eae-ec55-e3b44ce9681b"
      },
      "execution_count": 193,
      "outputs": [
        {
          "output_type": "execute_result",
          "data": {
            "text/plain": [
              "1.0"
            ]
          },
          "metadata": {},
          "execution_count": 193
        }
      ]
    },
    {
      "cell_type": "code",
      "source": [
        "dec.score(x_test, y_test)"
      ],
      "metadata": {
        "colab": {
          "base_uri": "https://localhost:8080/"
        },
        "id": "Tv_w_PurcRcQ",
        "outputId": "40e4b4ae-3def-4253-f536-e9211dcfd072"
      },
      "execution_count": 242,
      "outputs": [
        {
          "output_type": "execute_result",
          "data": {
            "text/plain": [
              "0.9980117248326595"
            ]
          },
          "metadata": {},
          "execution_count": 242
        }
      ]
    },
    {
      "cell_type": "code",
      "source": [
        "metrics.mean_squared_error(y_test, train_preds)"
      ],
      "metadata": {
        "colab": {
          "base_uri": "https://localhost:8080/"
        },
        "id": "J7oJu10bY2Er",
        "outputId": "7b4ca361-c929-483f-cf0a-6ef6ba2f8f6a"
      },
      "execution_count": 195,
      "outputs": [
        {
          "output_type": "execute_result",
          "data": {
            "text/plain": [
              "0.0003896465543762388"
            ]
          },
          "metadata": {},
          "execution_count": 195
        }
      ]
    },
    {
      "cell_type": "code",
      "source": [
        "metrics.mean_absolute_error(y_test, train_preds)"
      ],
      "metadata": {
        "colab": {
          "base_uri": "https://localhost:8080/"
        },
        "id": "Xhy7k-qtZhEy",
        "outputId": "0a74902e-95d1-4e0f-c55e-283436e4a371"
      },
      "execution_count": 196,
      "outputs": [
        {
          "output_type": "execute_result",
          "data": {
            "text/plain": [
              "0.005054929340647015"
            ]
          },
          "metadata": {},
          "execution_count": 196
        }
      ]
    },
    {
      "cell_type": "code",
      "source": [
        "np.sqrt(metrics.mean_squared_error(y_test, train_preds))"
      ],
      "metadata": {
        "colab": {
          "base_uri": "https://localhost:8080/"
        },
        "id": "K7ZNLo8gZlYj",
        "outputId": "ad6590c4-7635-4595-b3dc-2628bcd2f563"
      },
      "execution_count": 197,
      "outputs": [
        {
          "output_type": "execute_result",
          "data": {
            "text/plain": [
              "0.019739466922291463"
            ]
          },
          "metadata": {},
          "execution_count": 197
        }
      ]
    },
    {
      "cell_type": "markdown",
      "source": [
        "## Random Forests"
      ],
      "metadata": {
        "id": "eDAHL0hfTz_j"
      }
    },
    {
      "cell_type": "code",
      "source": [
        "from sklearn.ensemble import RandomForestRegressor"
      ],
      "metadata": {
        "id": "YUcd0L7Uc5j7"
      },
      "execution_count": 198,
      "outputs": []
    },
    {
      "cell_type": "code",
      "source": [
        "ran = RandomForestRegressor()"
      ],
      "metadata": {
        "id": "JZRYqCoJUC-k"
      },
      "execution_count": 199,
      "outputs": []
    },
    {
      "cell_type": "code",
      "source": [
        "ran.fit(x_train , x_train)"
      ],
      "metadata": {
        "colab": {
          "base_uri": "https://localhost:8080/"
        },
        "id": "8saNCAqRUFNz",
        "outputId": "24f16a41-cc86-4220-f7a6-6035c23b0a1e"
      },
      "execution_count": 200,
      "outputs": [
        {
          "output_type": "execute_result",
          "data": {
            "text/plain": [
              "RandomForestRegressor()"
            ]
          },
          "metadata": {},
          "execution_count": 200
        }
      ]
    },
    {
      "cell_type": "code",
      "source": [
        "predictions = ran.predict(x_train)"
      ],
      "metadata": {
        "id": "-rsGVO37UJEr"
      },
      "execution_count": 201,
      "outputs": []
    },
    {
      "cell_type": "code",
      "source": [
        "predictions"
      ],
      "metadata": {
        "colab": {
          "base_uri": "https://localhost:8080/"
        },
        "id": "ymlbiEa2UYFr",
        "outputId": "4eaff8a9-e8bf-4c91-f767-925244a422aa"
      },
      "execution_count": 202,
      "outputs": [
        {
          "output_type": "execute_result",
          "data": {
            "text/plain": [
              "array([[9.08060000e+02, 1.22083058e+01, 1.34705882e-01, ...,\n",
              "        1.40000000e-01, 0.00000000e+00, 0.00000000e+00],\n",
              "       [7.82960000e+02, 1.21200744e+01, 6.52941176e-02, ...,\n",
              "        3.00000000e-02, 0.00000000e+00, 1.00000000e-02],\n",
              "       [9.52640000e+02, 1.18157525e+01, 3.21764706e-01, ...,\n",
              "        2.00000000e-02, 0.00000000e+00, 3.00000000e-02],\n",
              "       ...,\n",
              "       [1.29494000e+03, 1.17227882e+01, 7.41176471e-02, ...,\n",
              "        7.00000000e-02, 0.00000000e+00, 0.00000000e+00],\n",
              "       [8.60680000e+02, 1.21425349e+01, 1.71470588e-01, ...,\n",
              "        1.30000000e-01, 0.00000000e+00, 0.00000000e+00],\n",
              "       [1.12679000e+03, 1.20744733e+01, 4.26470588e-01, ...,\n",
              "        9.00000000e-02, 0.00000000e+00, 0.00000000e+00]])"
            ]
          },
          "metadata": {},
          "execution_count": 202
        }
      ]
    },
    {
      "cell_type": "code",
      "source": [
        "ran.score(x_train, predictions)"
      ],
      "metadata": {
        "colab": {
          "base_uri": "https://localhost:8080/"
        },
        "id": "Fi27w_OPUZpq",
        "outputId": "7408e53c-131a-4534-cbe3-e450ffb8b660"
      },
      "execution_count": 203,
      "outputs": [
        {
          "output_type": "execute_result",
          "data": {
            "text/plain": [
              "1.0"
            ]
          },
          "metadata": {},
          "execution_count": 203
        }
      ]
    },
    {
      "cell_type": "code",
      "source": [
        "metrics.mean_squared_error(x_train, predictions)"
      ],
      "metadata": {
        "colab": {
          "base_uri": "https://localhost:8080/"
        },
        "id": "NkFs0JqraL5i",
        "outputId": "ba922485-9e5c-4e29-85e2-3344767bdfec"
      },
      "execution_count": 204,
      "outputs": [
        {
          "output_type": "execute_result",
          "data": {
            "text/plain": [
              "0.007311304372758537"
            ]
          },
          "metadata": {},
          "execution_count": 204
        }
      ]
    },
    {
      "cell_type": "code",
      "source": [
        "metrics.mean_absolute_error(x_train, predictions)"
      ],
      "metadata": {
        "colab": {
          "base_uri": "https://localhost:8080/"
        },
        "id": "aBYXjZWMaL2z",
        "outputId": "a5840483-a55e-4394-ff08-0d147c4146f4"
      },
      "execution_count": 205,
      "outputs": [
        {
          "output_type": "execute_result",
          "data": {
            "text/plain": [
              "0.0475681706672147"
            ]
          },
          "metadata": {},
          "execution_count": 205
        }
      ]
    },
    {
      "cell_type": "code",
      "source": [
        "np.sqrt(metrics.mean_squared_error(x_train, predictions))"
      ],
      "metadata": {
        "colab": {
          "base_uri": "https://localhost:8080/"
        },
        "id": "dWZjKh4eaLwa",
        "outputId": "074e9a3d-1da0-4a62-cefd-84fd94e77de0"
      },
      "execution_count": 206,
      "outputs": [
        {
          "output_type": "execute_result",
          "data": {
            "text/plain": [
              "0.08550616570024958"
            ]
          },
          "metadata": {},
          "execution_count": 206
        }
      ]
    },
    {
      "cell_type": "markdown",
      "source": [
        "## Support Vector Machines"
      ],
      "metadata": {
        "id": "-K4nvFpNWGGr"
      }
    },
    {
      "cell_type": "code",
      "source": [
        "from sklearn.svm import SVR"
      ],
      "metadata": {
        "id": "SBF6LYnVUePj"
      },
      "execution_count": 214,
      "outputs": []
    },
    {
      "cell_type": "code",
      "source": [
        "regressor = SVR(kernel = \"rbf\")"
      ],
      "metadata": {
        "id": "uQj7THrAWMjb"
      },
      "execution_count": 215,
      "outputs": []
    },
    {
      "cell_type": "code",
      "source": [
        "regressor.fit(x_train, y_train)"
      ],
      "metadata": {
        "colab": {
          "base_uri": "https://localhost:8080/"
        },
        "id": "cBYNdB2nWTqS",
        "outputId": "2b3f53be-1c72-4142-c4f4-2feddad0f724"
      },
      "execution_count": 216,
      "outputs": [
        {
          "output_type": "execute_result",
          "data": {
            "text/plain": [
              "SVR()"
            ]
          },
          "metadata": {},
          "execution_count": 216
        }
      ]
    },
    {
      "cell_type": "code",
      "source": [
        "predictions = regressor.predict(x_test)"
      ],
      "metadata": {
        "id": "5EK2nV5bWXya"
      },
      "execution_count": 223,
      "outputs": []
    },
    {
      "cell_type": "code",
      "source": [
        "regressor.score(x_test, predictions)"
      ],
      "metadata": {
        "colab": {
          "base_uri": "https://localhost:8080/"
        },
        "id": "WX6uQHEMWetC",
        "outputId": "06583555-3825-46c3-f508-acbc7c79b97d"
      },
      "execution_count": 224,
      "outputs": [
        {
          "output_type": "execute_result",
          "data": {
            "text/plain": [
              "1.0"
            ]
          },
          "metadata": {},
          "execution_count": 224
        }
      ]
    },
    {
      "cell_type": "code",
      "source": [
        "regressor.score(x_test, y_test)"
      ],
      "metadata": {
        "colab": {
          "base_uri": "https://localhost:8080/"
        },
        "id": "QM3n1VJig35q",
        "outputId": "a9cdd621-01f4-4054-8120-d3908404bcdd"
      },
      "execution_count": 246,
      "outputs": [
        {
          "output_type": "execute_result",
          "data": {
            "text/plain": [
              "0.006271492624916775"
            ]
          },
          "metadata": {},
          "execution_count": 246
        }
      ]
    },
    {
      "cell_type": "code",
      "source": [
        "metrics.mean_absolute_error(y_test, predictions)"
      ],
      "metadata": {
        "colab": {
          "base_uri": "https://localhost:8080/"
        },
        "id": "_8I04UhTWizi",
        "outputId": "84325a1a-48ae-401b-ee6e-6d3ada34558f"
      },
      "execution_count": 227,
      "outputs": [
        {
          "output_type": "execute_result",
          "data": {
            "text/plain": [
              "0.33871534757627486"
            ]
          },
          "metadata": {},
          "execution_count": 227
        }
      ]
    },
    {
      "cell_type": "code",
      "source": [
        "metrics.mean_squared_error(y_test, predictions)"
      ],
      "metadata": {
        "colab": {
          "base_uri": "https://localhost:8080/"
        },
        "id": "PsgSCz8waujZ",
        "outputId": "3eae3840-57ad-4cea-cec0-c9dc01c495cd"
      },
      "execution_count": 228,
      "outputs": [
        {
          "output_type": "execute_result",
          "data": {
            "text/plain": [
              "0.19474310962806132"
            ]
          },
          "metadata": {},
          "execution_count": 228
        }
      ]
    },
    {
      "cell_type": "code",
      "source": [
        "np.sqrt(metrics.mean_squared_error(y_test, predictions))"
      ],
      "metadata": {
        "colab": {
          "base_uri": "https://localhost:8080/"
        },
        "id": "9DtE7lPSayCj",
        "outputId": "916c299e-450e-4305-cc7a-ff316c1519d6"
      },
      "execution_count": 229,
      "outputs": [
        {
          "output_type": "execute_result",
          "data": {
            "text/plain": [
              "0.44129707638739385"
            ]
          },
          "metadata": {},
          "execution_count": 229
        }
      ]
    },
    {
      "cell_type": "code",
      "source": [
        "regressor.score(x_test, y_test)"
      ],
      "metadata": {
        "colab": {
          "base_uri": "https://localhost:8080/"
        },
        "id": "2pPFRXxMf7Ky",
        "outputId": "939d2860-4ee8-488e-b782-178f5a4fa7c7"
      },
      "execution_count": 241,
      "outputs": [
        {
          "output_type": "execute_result",
          "data": {
            "text/plain": [
              "0.006271492624916775"
            ]
          },
          "metadata": {},
          "execution_count": 241
        }
      ]
    },
    {
      "cell_type": "markdown",
      "source": [
        "## GBM Regressor"
      ],
      "metadata": {
        "id": "Z8B40R9EbpM6"
      }
    },
    {
      "cell_type": "code",
      "source": [
        "from sklearn.ensemble import GradientBoostingRegressor"
      ],
      "metadata": {
        "id": "6CI0cuSBa3ue"
      },
      "execution_count": 230,
      "outputs": []
    },
    {
      "cell_type": "code",
      "source": [
        "gbm = GradientBoostingRegressor()"
      ],
      "metadata": {
        "id": "D-2_fnu5bzUa"
      },
      "execution_count": 231,
      "outputs": []
    },
    {
      "cell_type": "code",
      "source": [
        "gbm.fit(x_train, y_train)"
      ],
      "metadata": {
        "colab": {
          "base_uri": "https://localhost:8080/"
        },
        "id": "ku1crXd0b2Jq",
        "outputId": "b91da91a-31b7-47df-81e4-f014246b35a9"
      },
      "execution_count": 232,
      "outputs": [
        {
          "output_type": "execute_result",
          "data": {
            "text/plain": [
              "GradientBoostingRegressor()"
            ]
          },
          "metadata": {},
          "execution_count": 232
        }
      ]
    },
    {
      "cell_type": "code",
      "source": [
        "predictions = gbm.predict(x_test)"
      ],
      "metadata": {
        "id": "iSrjC7gmb4dC"
      },
      "execution_count": 233,
      "outputs": []
    },
    {
      "cell_type": "code",
      "source": [
        "predictions"
      ],
      "metadata": {
        "colab": {
          "base_uri": "https://localhost:8080/"
        },
        "id": "7CU2WjlLb_fi",
        "outputId": "b492960f-2886-4bca-c145-d46bb3fbba6a"
      },
      "execution_count": 234,
      "outputs": [
        {
          "output_type": "execute_result",
          "data": {
            "text/plain": [
              "array([11.94579898, 12.69309782, 11.65586331, 11.97285565, 12.66711976,\n",
              "       11.24101237, 12.6393884 , 11.88970715, 11.3465445 , 11.81766442,\n",
              "       11.8839286 , 11.77926829, 11.30497982, 12.27261317, 12.10217318,\n",
              "       11.81099596, 12.11363437, 11.81346459, 11.67411954, 12.32842218,\n",
              "       11.95064009, 12.25644287, 12.06523606, 11.76429136, 12.16594303,\n",
              "       11.94419439, 12.10232751, 11.85028163, 12.10217318, 12.24804827,\n",
              "       11.75093605, 12.56325607, 12.20767631, 11.81755568, 12.4571256 ,\n",
              "       11.84989568, 11.8348773 , 12.30089362, 12.64062512, 11.4763779 ,\n",
              "       11.65677113, 12.22242164, 11.69357943, 12.43307161, 11.76364937,\n",
              "       11.67383735, 11.65578548, 11.75165942, 13.01049412, 11.88139136,\n",
              "       11.69324811, 12.18451633, 11.65516935, 12.56542008, 11.88164382,\n",
              "       12.47072476, 12.26951196, 12.07487031, 11.58262493, 11.58280305,\n",
              "       11.14615833, 11.94509293, 12.66640435, 12.48004936, 12.54396529,\n",
              "       12.40480032, 11.60121233, 12.62980671, 11.45287645, 12.07861829,\n",
              "       11.6931235 , 11.81105622, 11.60092978, 11.45145543, 13.32586093,\n",
              "       12.06112517, 12.77841686, 12.73318899, 11.85096993, 11.73420022,\n",
              "       11.67475177, 11.10191436, 11.62668326, 11.41701178, 11.91870262,\n",
              "       11.79248933, 12.49468724, 12.15467271, 11.95792275, 11.95754039,\n",
              "       11.94419708, 11.93022657, 11.73378057, 12.61683536, 11.82217311,\n",
              "       12.04243017, 12.22202042, 12.12297465, 12.22184593, 12.469972  ,\n",
              "       12.01132697, 12.32694827, 12.4052068 , 11.79186582, 12.18159829,\n",
              "       11.96454249, 11.95799515, 12.52704693, 11.88337733, 11.81351384,\n",
              "       11.00258367, 11.72902754, 11.75227965, 11.82950716, 12.27046856,\n",
              "       11.69287406, 11.59077226, 11.71443789, 11.62606328, 12.56384188,\n",
              "       11.79282515, 11.91708603, 12.03842123, 12.24306655, 12.07563184,\n",
              "       11.82948681, 12.36478886, 11.29080487, 11.88119951, 11.99628095,\n",
              "       12.13235613, 12.82714538, 12.18956089, 11.54900178, 10.50483296,\n",
              "       12.7296087 , 12.82910713, 11.77949082, 12.34946556, 13.35490886,\n",
              "       12.92159618, 11.79114141, 12.09363739, 11.82168504, 11.88400769,\n",
              "       11.71655111])"
            ]
          },
          "metadata": {},
          "execution_count": 234
        }
      ]
    },
    {
      "cell_type": "code",
      "source": [
        "gbm.score(x_test, predictions)"
      ],
      "metadata": {
        "colab": {
          "base_uri": "https://localhost:8080/"
        },
        "id": "h1DSgZwMcJYK",
        "outputId": "0892553c-23cc-43ab-936d-280d16eac3ea"
      },
      "execution_count": 235,
      "outputs": [
        {
          "output_type": "execute_result",
          "data": {
            "text/plain": [
              "1.0"
            ]
          },
          "metadata": {},
          "execution_count": 235
        }
      ]
    },
    {
      "cell_type": "code",
      "source": [
        "gbm.score(x_test, y_test)"
      ],
      "metadata": {
        "colab": {
          "base_uri": "https://localhost:8080/"
        },
        "id": "m-xusO_UhAvS",
        "outputId": "a825cbbc-53cc-4cd7-e281-011a11c09548"
      },
      "execution_count": 247,
      "outputs": [
        {
          "output_type": "execute_result",
          "data": {
            "text/plain": [
              "0.9987138434308228"
            ]
          },
          "metadata": {},
          "execution_count": 247
        }
      ]
    },
    {
      "cell_type": "code",
      "source": [
        "metrics.mean_absolute_error(y_test, predictions)"
      ],
      "metadata": {
        "colab": {
          "base_uri": "https://localhost:8080/"
        },
        "id": "YdGPrR7FcSUy",
        "outputId": "b565502e-15bc-460d-f14b-4036f0170ef0"
      },
      "execution_count": 236,
      "outputs": [
        {
          "output_type": "execute_result",
          "data": {
            "text/plain": [
              "0.004989154233305833"
            ]
          },
          "metadata": {},
          "execution_count": 236
        }
      ]
    },
    {
      "cell_type": "code",
      "source": [
        "metrics.mean_squared_error(y_test, predictions)"
      ],
      "metadata": {
        "colab": {
          "base_uri": "https://localhost:8080/"
        },
        "id": "CGDYjvRrcire",
        "outputId": "ecd90640-efa8-481d-82b9-19bea06a1775"
      },
      "execution_count": 237,
      "outputs": [
        {
          "output_type": "execute_result",
          "data": {
            "text/plain": [
              "0.00025205086489038563"
            ]
          },
          "metadata": {},
          "execution_count": 237
        }
      ]
    },
    {
      "cell_type": "code",
      "source": [
        "np.sqrt(metrics.mean_squared_error(y_test, predictions))"
      ],
      "metadata": {
        "colab": {
          "base_uri": "https://localhost:8080/"
        },
        "id": "9ipY2WTzcqfa",
        "outputId": "544c58f1-ca0e-41e1-c0f8-421f97cc6b91"
      },
      "execution_count": 238,
      "outputs": [
        {
          "output_type": "execute_result",
          "data": {
            "text/plain": [
              "0.015876109879009583"
            ]
          },
          "metadata": {},
          "execution_count": 238
        }
      ]
    }
  ]
}